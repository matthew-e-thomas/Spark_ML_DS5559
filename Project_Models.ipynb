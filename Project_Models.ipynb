{
 "cells": [
  {
   "cell_type": "markdown",
   "metadata": {},
   "source": [
    "# Models"
   ]
  },
  {
   "cell_type": "markdown",
   "metadata": {},
   "source": [
    "Matt Thomas, Max McGaw, Liam Mulcahy, Will Carruthers"
   ]
  },
  {
   "cell_type": "code",
   "execution_count": 1,
   "metadata": {},
   "outputs": [],
   "source": [
    "from pyspark.sql import SparkSession\n",
    "spark = SparkSession.builder.getOrCreate()\n",
    "sc = spark.sparkContext\n",
    "import pandas as pd"
   ]
  },
  {
   "cell_type": "code",
   "execution_count": 16,
   "metadata": {},
   "outputs": [],
   "source": [
    "from pyspark.ml import Pipeline  \n",
    "from pyspark.ml.feature import *  \n",
    "from pyspark.ml.classification import LogisticRegression\n",
    "from pyspark.ml.classification import GBTClassifier, RandomForestClassifier, NaiveBayes,\\\n",
    "LinearSVC\n",
    "from pyspark.ml.tuning import CrossValidator, ParamGridBuilder\n",
    "from pyspark.ml.evaluation import BinaryClassificationEvaluator\n",
    "from pyspark.ml.evaluation import MulticlassClassificationEvaluator"
   ]
  },
  {
   "cell_type": "code",
   "execution_count": 3,
   "metadata": {},
   "outputs": [],
   "source": [
    "import matplotlib.pyplot as plt\n",
    "%matplotlib inline"
   ]
  },
  {
   "cell_type": "code",
   "execution_count": 4,
   "metadata": {},
   "outputs": [],
   "source": [
    "#We can use the sample.csv to speed things up while tuning models\n",
    "#df = spark.read.csv('train_data.csv', inferSchema=True, header=True)\n",
    "df = spark.read.csv('sample.csv', inferSchema=True, header=True)"
   ]
  },
  {
   "cell_type": "code",
   "execution_count": 5,
   "metadata": {},
   "outputs": [
    {
     "name": "stdout",
     "output_type": "stream",
     "text": [
      "+------+------------------+---------+----------+--------+--------------+-----------+-----------+----------+----------+--------------+---------------+--------------------+-------------+--------------+\n",
      "|   _c0|loan_status_binary|loan_amnt|      term|int_rate|home_ownership|tot_cur_bal|total_pymnt|annual_inc|addr_state|fico_range_low|last_pymnt_amnt|debt_settlement_flag|grade_feature|emp_length_low|\n",
      "+------+------------------+---------+----------+--------+--------------+-----------+-----------+----------+----------+--------------+---------------+--------------------+-------------+--------------+\n",
      "|625057|                 0|   4000.0| 36 months|   15.05|      MORTGAGE|   302373.0|  4558.1553|  100000.0|        CA|         675.0|        2899.73|                   N|           CD|             0|\n",
      "|394994|                 0|  10000.0| 60 months|   12.69|      MORTGAGE|    93524.0|  11656.099|   80000.0|        WY|         660.0|         8055.0|                   N|           CD|             0|\n",
      "+------+------------------+---------+----------+--------+--------------+-----------+-----------+----------+----------+--------------+---------------+--------------------+-------------+--------------+\n",
      "only showing top 2 rows\n",
      "\n"
     ]
    }
   ],
   "source": [
    "df.show(2)"
   ]
  },
  {
   "cell_type": "code",
   "execution_count": 5,
   "metadata": {},
   "outputs": [],
   "source": [
    "dfs = df.select([col for col in df.columns if col not in ['_c0']])"
   ]
  },
  {
   "cell_type": "code",
   "execution_count": 6,
   "metadata": {},
   "outputs": [
    {
     "name": "stdout",
     "output_type": "stream",
     "text": [
      "+------------------+---------+----------+--------+--------------+-----------+-----------+----------+----------+--------------+---------------+--------------------+-------------+--------------+\n",
      "|loan_status_binary|loan_amnt|      term|int_rate|home_ownership|tot_cur_bal|total_pymnt|annual_inc|addr_state|fico_range_low|last_pymnt_amnt|debt_settlement_flag|grade_feature|emp_length_low|\n",
      "+------------------+---------+----------+--------+--------------+-----------+-----------+----------+----------+--------------+---------------+--------------------+-------------+--------------+\n",
      "|                 0|  20000.0| 60 months|     9.8|          RENT|    84037.0|   23387.47|   75000.0|        OH|         690.0|       13669.82|                   N|           AB|             0|\n",
      "|                 0|   3000.0| 36 months|   14.08|          RENT|    27195.0|     1537.4|   24000.0|        TX|         695.0|         102.65|                   N|           CD|             1|\n",
      "|                 0|  16000.0| 36 months|    9.58|          RENT|    55689.0|    5122.78|   68000.0|        NJ|         675.0|         513.13|                   N|           AB|             1|\n",
      "|                 0|   6000.0| 36 months|    5.31|      MORTGAGE|    87081.0|     1985.6|   29300.0|        OH|         760.0|         180.67|                   N|           AB|             0|\n",
      "|                 0|   4500.0| 36 months|    7.96|      MORTGAGE|   181993.0|    1553.33|   47000.0|        OH|         755.0|         140.94|                   N|           AB|             0|\n",
      "+------------------+---------+----------+--------+--------------+-----------+-----------+----------+----------+--------------+---------------+--------------------+-------------+--------------+\n",
      "only showing top 5 rows\n",
      "\n"
     ]
    }
   ],
   "source": [
    "dfs.show(5)"
   ]
  },
  {
   "cell_type": "code",
   "execution_count": 6,
   "metadata": {},
   "outputs": [
    {
     "name": "stdout",
     "output_type": "stream",
     "text": [
      "root\n",
      " |-- loan_status_binary: integer (nullable = true)\n",
      " |-- loan_amnt: double (nullable = true)\n",
      " |-- term: string (nullable = true)\n",
      " |-- int_rate: double (nullable = true)\n",
      " |-- home_ownership: string (nullable = true)\n",
      " |-- tot_cur_bal: double (nullable = true)\n",
      " |-- total_pymnt: double (nullable = true)\n",
      " |-- annual_inc: double (nullable = true)\n",
      " |-- addr_state: string (nullable = true)\n",
      " |-- fico_range_low: double (nullable = true)\n",
      " |-- last_pymnt_amnt: double (nullable = true)\n",
      " |-- debt_settlement_flag: string (nullable = true)\n",
      " |-- pub_rec_bankruptcies: double (nullable = true)\n",
      " |-- delinq_2yrs: double (nullable = true)\n",
      " |-- grade_feature: string (nullable = true)\n",
      " |-- emp_length_low: integer (nullable = true)\n",
      "\n"
     ]
    }
   ],
   "source": [
    "dfs.printSchema()"
   ]
  },
  {
   "cell_type": "markdown",
   "metadata": {},
   "source": [
    "## Logistic Regression"
   ]
  },
  {
   "cell_type": "code",
   "execution_count": 6,
   "metadata": {},
   "outputs": [],
   "source": [
    "train, test = dfs.randomSplit([0.8, 0.2], seed=12345)"
   ]
  },
  {
   "cell_type": "code",
   "execution_count": 7,
   "metadata": {},
   "outputs": [],
   "source": [
    "categories = ['home_ownership', 'term', 'debt_settlement_flag', 'grade_feature']\n",
    "stages = []"
   ]
  },
  {
   "cell_type": "code",
   "execution_count": 8,
   "metadata": {},
   "outputs": [],
   "source": [
    "for col in categories:\n",
    "    stringIndexer = StringIndexer(inputCol=col, outputCol=col + \"_Index\")\n",
    "    encoder = OneHotEncoder(inputCol=stringIndexer.getOutputCol(),\n",
    "                            outputCol=col + \"classVec\")\n",
    "    stages += [stringIndexer, encoder]"
   ]
  },
  {
   "cell_type": "code",
   "execution_count": 9,
   "metadata": {},
   "outputs": [],
   "source": [
    "scaled_vectors = VectorAssembler(inputCols = ['loan_amnt',\\\n",
    "                                             'total_pymnt', 'annual_inc', \\\n",
    "                                             'fico_range_low', 'last_pymnt_amnt',\\\n",
    "                                             'int_rate','emp_length_low','tot_cur_bal',\n",
    "                                             'delinq_2yrs', 'pub_rec_bankruptcies'],\n",
    "                                 outputCol='vector_features')"
   ]
  },
  {
   "cell_type": "code",
   "execution_count": 10,
   "metadata": {},
   "outputs": [],
   "source": [
    "scaler = StandardScaler(inputCol='vector_features', outputCol='scaled_features')"
   ]
  },
  {
   "cell_type": "code",
   "execution_count": 11,
   "metadata": {},
   "outputs": [],
   "source": [
    "labelIndexer = StringIndexer(inputCol='loan_status_binary', outputCol='label')"
   ]
  },
  {
   "cell_type": "code",
   "execution_count": 12,
   "metadata": {},
   "outputs": [],
   "source": [
    "#AT added\n",
    "assembler = VectorAssembler(inputCols=['scaled_features', 'home_ownershipclassVec', 'termclassVec', \\\n",
    "                                       'debt_settlement_flagclassVec','grade_featureclassVec' ], outputCol='features')"
   ]
  },
  {
   "cell_type": "code",
   "execution_count": 13,
   "metadata": {},
   "outputs": [],
   "source": [
    "stages += [scaled_vectors, scaler, labelIndexer, assembler]"
   ]
  },
  {
   "cell_type": "code",
   "execution_count": 14,
   "metadata": {},
   "outputs": [
    {
     "data": {
      "text/plain": [
       "[StringIndexer_71697b4b1c65,\n",
       " OneHotEncoder_b44fdbfeb6cd,\n",
       " StringIndexer_247cd62e616e,\n",
       " OneHotEncoder_8446f095954b,\n",
       " StringIndexer_716668e5c8fb,\n",
       " OneHotEncoder_2f05a2f3cae1,\n",
       " StringIndexer_ca4bc2d326f4,\n",
       " OneHotEncoder_918dffffda19,\n",
       " VectorAssembler_f9be38af790c,\n",
       " StandardScaler_837232cb8a73,\n",
       " StringIndexer_8b2474efbab7,\n",
       " VectorAssembler_f77e11248e14,\n",
       " LogisticRegression_2a248d590418]"
      ]
     },
     "execution_count": 14,
     "metadata": {},
     "output_type": "execute_result"
    }
   ],
   "source": [
    "lr = LogisticRegression(maxIter=10, regParam=0.1)\n",
    "stages += [lr]\n",
    "stages"
   ]
  },
  {
   "cell_type": "code",
   "execution_count": 29,
   "metadata": {},
   "outputs": [],
   "source": [
    "pipeline = Pipeline(stages=stages)"
   ]
  },
  {
   "cell_type": "code",
   "execution_count": 30,
   "metadata": {},
   "outputs": [],
   "source": [
    "paramGrid = ParamGridBuilder() \\\n",
    "    .addGrid(lr.regParam, [0.1, 0.01, .001]) \\\n",
    "    .addGrid(lr.elasticNetParam, [0.0, 0.2, 0.8, 1.0])\\\n",
    "    .build()"
   ]
  },
  {
   "cell_type": "code",
   "execution_count": 31,
   "metadata": {},
   "outputs": [],
   "source": [
    "crossval = CrossValidator(estimator=pipeline,\n",
    "                          estimatorParamMaps=paramGrid,\n",
    "                          evaluator=BinaryClassificationEvaluator(),\n",
    "                          numFolds=5)"
   ]
  },
  {
   "cell_type": "code",
   "execution_count": 32,
   "metadata": {},
   "outputs": [],
   "source": [
    "# Fit the pipeline\n",
    "model = crossval.fit(train)"
   ]
  },
  {
   "cell_type": "code",
   "execution_count": 33,
   "metadata": {},
   "outputs": [
    {
     "name": "stdout",
     "output_type": "stream",
     "text": [
      "+------------------+---------+----------+--------+--------------+-----------+-----------+----------+----------+--------------+---------------+--------------------+--------------------+-----------+-------------+--------------+--------------------+----------------------+----------+-------------+--------------------------+----------------------------+-------------------+---------------------+--------------------+--------------------+-----+--------------------+--------------------+--------------------+----------+\n",
      "|loan_status_binary|loan_amnt|      term|int_rate|home_ownership|tot_cur_bal|total_pymnt|annual_inc|addr_state|fico_range_low|last_pymnt_amnt|debt_settlement_flag|pub_rec_bankruptcies|delinq_2yrs|grade_feature|emp_length_low|home_ownership_Index|home_ownershipclassVec|term_Index| termclassVec|debt_settlement_flag_Index|debt_settlement_flagclassVec|grade_feature_Index|grade_featureclassVec|     vector_features|     scaled_features|label|            features|       rawPrediction|         probability|prediction|\n",
      "+------------------+---------+----------+--------+--------------+-----------+-----------+----------+----------+--------------+---------------+--------------------+--------------------+-----------+-------------+--------------+--------------------+----------------------+----------+-------------+--------------------------+----------------------------+-------------------+---------------------+--------------------+--------------------+-----+--------------------+--------------------+--------------------+----------+\n",
      "|                 0|   1000.0| 36 months|    5.32|           OWN|   204946.0|   1051.497|   46886.0|        CA|         715.0|         660.24|                   N|                 0.0|        0.0|           AB|             1|                 2.0|         (5,[2],[1.0])|       0.0|(1,[0],[1.0])|                       0.0|               (1,[0],[1.0])|                0.0|        (2,[0],[1.0])|[1000.0,1051.497,...|[0.10878575751928...|  0.0|[0.10878575751928...|[3.26678911591406...|[0.96327174174156...|       0.0|\n",
      "|                 0|   1000.0| 36 months|    6.03|      MORTGAGE|   229060.0|  1095.6642|   96000.0|        TX|         800.0|          30.26|                   N|                 0.0|        0.0|           AB|             0|                 0.0|         (5,[0],[1.0])|       0.0|(1,[0],[1.0])|                       0.0|               (1,[0],[1.0])|                0.0|        (2,[0],[1.0])|[1000.0,1095.6642...|[0.10878575751928...|  0.0|(19,[0,1,2,3,4,5,...|[2.41991873150699...|[0.91833364985590...|       0.0|\n",
      "+------------------+---------+----------+--------+--------------+-----------+-----------+----------+----------+--------------+---------------+--------------------+--------------------+-----------+-------------+--------------+--------------------+----------------------+----------+-------------+--------------------------+----------------------------+-------------------+---------------------+--------------------+--------------------+-----+--------------------+--------------------+--------------------+----------+\n",
      "only showing top 2 rows\n",
      "\n"
     ]
    }
   ],
   "source": [
    "# Make a prediction\n",
    "prediction = model.transform(test)\n",
    "prediction.show(2)"
   ]
  },
  {
   "cell_type": "code",
   "execution_count": 34,
   "metadata": {},
   "outputs": [],
   "source": [
    "prediction = prediction.withColumn(\"loan_status_binary\", df[\"loan_status_binary\"].cast('float'))\n",
    "#This is necessary to compare predictions with actual values"
   ]
  },
  {
   "cell_type": "code",
   "execution_count": 25,
   "metadata": {},
   "outputs": [],
   "source": [
    "#Calculates area under Precision-Recall curve\n",
    "evaluator = BinaryClassificationEvaluator(labelCol='loan_status_binary', \\\n",
    "                                          metricName='areaUnderPR')"
   ]
  },
  {
   "cell_type": "code",
   "execution_count": 36,
   "metadata": {},
   "outputs": [
    {
     "data": {
      "text/plain": [
       "0.43694804650468133"
      ]
     },
     "execution_count": 36,
     "metadata": {},
     "output_type": "execute_result"
    }
   ],
   "source": [
    "evaluator.evaluate(prediction) #calculates area under P-R curve"
   ]
  },
  {
   "cell_type": "code",
   "execution_count": 26,
   "metadata": {},
   "outputs": [],
   "source": [
    "f1_evaluator = MulticlassClassificationEvaluator(predictionCol='prediction',\\\n",
    "                                                 labelCol='loan_status_binary',\\\n",
    "                                                 metricName='f1')"
   ]
  },
  {
   "cell_type": "code",
   "execution_count": 38,
   "metadata": {},
   "outputs": [
    {
     "data": {
      "text/plain": [
       "0.8615933955242269"
      ]
     },
     "execution_count": 38,
     "metadata": {},
     "output_type": "execute_result"
    }
   ],
   "source": [
    "f1_evaluator.evaluate(prediction) #f1 score"
   ]
  },
  {
   "cell_type": "code",
   "execution_count": 39,
   "metadata": {},
   "outputs": [
    {
     "data": {
      "text/plain": [
       "0.8926499050725747"
      ]
     },
     "execution_count": 39,
     "metadata": {},
     "output_type": "execute_result"
    }
   ],
   "source": [
    "trainingSummary = model.bestModel.stages[-1].summary\n",
    "trainingSummary.accuracy"
   ]
  },
  {
   "cell_type": "code",
   "execution_count": 40,
   "metadata": {},
   "outputs": [
    {
     "data": {
      "text/plain": [
       "[0.9931025379391841, 0.15181717040608195]"
      ]
     },
     "execution_count": 40,
     "metadata": {},
     "output_type": "execute_result"
    }
   ],
   "source": [
    "trainingSummary.truePositiveRateByLabel"
   ]
  },
  {
   "cell_type": "code",
   "execution_count": 41,
   "metadata": {},
   "outputs": [
    {
     "data": {
      "text/plain": [
       "{Param(parent='LogisticRegression_655077d25371', name='aggregationDepth', doc='suggested depth for treeAggregate (>= 2)'): 2,\n",
       " Param(parent='LogisticRegression_655077d25371', name='elasticNetParam', doc='the ElasticNet mixing parameter, in range [0, 1]. For alpha = 0, the penalty is an L2 penalty. For alpha = 1, it is an L1 penalty'): 0.0,\n",
       " Param(parent='LogisticRegression_655077d25371', name='family', doc='The name of family which is a description of the label distribution to be used in the model. Supported options: auto, binomial, multinomial.'): 'auto',\n",
       " Param(parent='LogisticRegression_655077d25371', name='featuresCol', doc='features column name'): 'features',\n",
       " Param(parent='LogisticRegression_655077d25371', name='fitIntercept', doc='whether to fit an intercept term'): True,\n",
       " Param(parent='LogisticRegression_655077d25371', name='labelCol', doc='label column name'): 'label',\n",
       " Param(parent='LogisticRegression_655077d25371', name='maxIter', doc='maximum number of iterations (>= 0)'): 10,\n",
       " Param(parent='LogisticRegression_655077d25371', name='predictionCol', doc='prediction column name'): 'prediction',\n",
       " Param(parent='LogisticRegression_655077d25371', name='probabilityCol', doc='Column name for predicted class conditional probabilities. Note: Not all models output well-calibrated probability estimates! These probabilities should be treated as confidences, not precise probabilities'): 'probability',\n",
       " Param(parent='LogisticRegression_655077d25371', name='rawPredictionCol', doc='raw prediction (a.k.a. confidence) column name'): 'rawPrediction',\n",
       " Param(parent='LogisticRegression_655077d25371', name='regParam', doc='regularization parameter (>= 0)'): 0.001,\n",
       " Param(parent='LogisticRegression_655077d25371', name='standardization', doc='whether to standardize the training features before fitting the model'): True,\n",
       " Param(parent='LogisticRegression_655077d25371', name='threshold', doc='threshold in binary classification prediction, in range [0, 1]'): 0.5,\n",
       " Param(parent='LogisticRegression_655077d25371', name='tol', doc='the convergence tolerance for iterative algorithms (>= 0)'): 1e-06}"
      ]
     },
     "execution_count": 41,
     "metadata": {},
     "output_type": "execute_result"
    }
   ],
   "source": [
    "#There's probably a better way, but this shows the best parameters\n",
    "bestPipeline = model.bestModel\n",
    "bestLRModel = bestPipeline.stages[-1]\n",
    "bestParams = bestLRModel.extractParamMap()\n",
    "bestParams"
   ]
  },
  {
   "cell_type": "code",
   "execution_count": 42,
   "metadata": {},
   "outputs": [],
   "source": [
    "#plotting precision-recall curve\n",
    "pr = trainingSummary.pr.toPandas()\n"
   ]
  },
  {
   "cell_type": "code",
   "execution_count": 43,
   "metadata": {},
   "outputs": [
    {
     "data": {
      "image/png": "[encoded data removed]",
      "text/plain": [
       "<Figure size 432x288 with 1 Axes>"
      ]
     },
     "metadata": {
      "needs_background": "light"
     },
     "output_type": "display_data"
    }
   ],
   "source": [
    "plt.plot(pr['recall'],pr['precision'])\n",
    "plt.ylabel('Precision')\n",
    "plt.xlabel('Recall')\n",
    "plt.show()"
   ]
  },
  {
   "cell_type": "markdown",
   "metadata": {},
   "source": [
    "## Confusion Matrix"
   ]
  },
  {
   "cell_type": "code",
   "execution_count": 28,
   "metadata": {},
   "outputs": [],
   "source": [
    "#from pyspark.mllib.evaluation import BinaryClassificationMetrics\n",
    "from sklearn.metrics import confusion_matrix"
   ]
  },
  {
   "cell_type": "code",
   "execution_count": 45,
   "metadata": {},
   "outputs": [
    {
     "data": {
      "text/plain": [
       "array([[118862,    781],\n",
       "       [ 13603,   2480]])"
      ]
     },
     "execution_count": 45,
     "metadata": {},
     "output_type": "execute_result"
    }
   ],
   "source": [
    "#predictionAndLabels = test.map(lambda lp: (float(model.predict(lp.features)), lp.label))\n",
    "y_true = prediction.select(\"loan_status_binary\")\n",
    "y_true = y_true.toPandas()\n",
    "\n",
    "y_pred = prediction.select(\"prediction\")\n",
    "y_pred = y_pred.toPandas()\n",
    "\n",
    "cnf_matrix = confusion_matrix(y_true, y_pred,labels=[0, 1])\n",
    "cnf_matrix"
   ]
  },
  {
   "cell_type": "code",
   "execution_count": 29,
   "metadata": {},
   "outputs": [],
   "source": [
    "\n",
    "import numpy as np\n",
    "import itertools\n",
    "\n",
    "def plot_confusion_matrix(cm, classes,\n",
    "                          normalize=False,\n",
    "                          title='Confusion matrix',\n",
    "                          cmap=plt.cm.Blues):\n",
    "    \"\"\"\n",
    "    This function prints and plots the confusion matrix.\n",
    "    Normalization can be applied by setting `normalize=True`.\n",
    "    \"\"\"\n",
    "    if normalize:\n",
    "        cm = cm.astype('float') / cm.sum(axis=1)[:, np.newaxis]\n",
    "        print(\"Normalized confusion matrix\")\n",
    "    else:\n",
    "        print('Confusion matrix, without normalization')\n",
    "\n",
    "    print(cm)\n",
    "\n",
    "    plt.imshow(cm, interpolation='nearest', cmap=cmap)\n",
    "    plt.title(title)\n",
    "    plt.colorbar()\n",
    "    tick_marks = np.arange(len(classes))\n",
    "    plt.xticks(tick_marks, classes, rotation=45)\n",
    "    plt.yticks(tick_marks, classes)\n",
    "\n",
    "    fmt = '.2f' if normalize else 'd'\n",
    "    thresh = cm.max() / 2.\n",
    "    for i, j in itertools.product(range(cm.shape[0]), range(cm.shape[1])):\n",
    "        plt.text(j, i, format(cm[i, j], fmt),\n",
    "                 horizontalalignment=\"center\",\n",
    "                 color=\"white\" if cm[i, j] > thresh else \"black\")\n",
    "\n",
    "    plt.tight_layout()\n",
    "    plt.ylabel('True label')\n",
    "    plt.xlabel('Predicted label')"
   ]
  },
  {
   "cell_type": "code",
   "execution_count": 47,
   "metadata": {},
   "outputs": [
    {
     "name": "stdout",
     "output_type": "stream",
     "text": [
      "Confusion matrix, without normalization\n",
      "[[118862    781]\n",
      " [ 13603   2480]]\n"
     ]
    },
    {
     "data": {
      "image/png": "[encoded data removed]",
      "text/plain": [
       "<Figure size 432x288 with 2 Axes>"
      ]
     },
     "metadata": {
      "needs_background": "light"
     },
     "output_type": "display_data"
    }
   ],
   "source": [
    "plt.figure()\n",
    "plot_confusion_matrix(cnf_matrix, classes=[0, 1],\n",
    "                      title='Confusion matrix')\n",
    "plt.show()"
   ]
  },
  {
   "cell_type": "markdown",
   "metadata": {},
   "source": [
    "## Linear SVC"
   ]
  },
  {
   "cell_type": "code",
   "execution_count": 17,
   "metadata": {},
   "outputs": [],
   "source": [
    "stages[-1] = LinearSVC()"
   ]
  },
  {
   "cell_type": "code",
   "execution_count": 18,
   "metadata": {},
   "outputs": [],
   "source": [
    "pipeline = Pipeline(stages=stages)"
   ]
  },
  {
   "cell_type": "code",
   "execution_count": 19,
   "metadata": {},
   "outputs": [],
   "source": [
    "paramGrid = ParamGridBuilder() \\\n",
    "    .addGrid(lr.regParam, [0.1, 0.01, .001]) \\\n",
    "    .build()"
   ]
  },
  {
   "cell_type": "code",
   "execution_count": 20,
   "metadata": {},
   "outputs": [],
   "source": [
    "crossval = CrossValidator(estimator=pipeline,\n",
    "                          estimatorParamMaps=paramGrid,\n",
    "                          evaluator=BinaryClassificationEvaluator(),\n",
    "                          numFolds=5)"
   ]
  },
  {
   "cell_type": "code",
   "execution_count": 21,
   "metadata": {},
   "outputs": [],
   "source": [
    "# Fit the pipeline\n",
    "model_svc = crossval.fit(train)"
   ]
  },
  {
   "cell_type": "code",
   "execution_count": 23,
   "metadata": {},
   "outputs": [],
   "source": [
    "# Make a prediction\n",
    "prediction = model_svc.transform(test)"
   ]
  },
  {
   "cell_type": "code",
   "execution_count": 27,
   "metadata": {},
   "outputs": [
    {
     "name": "stdout",
     "output_type": "stream",
     "text": [
      "Area under P-R Curve is 0.439778021131811\n",
      "F1 Score is 0.8235691820205785\n"
     ]
    }
   ],
   "source": [
    "print(f'Area under P-R Curve is {evaluator.evaluate(prediction)}')\n",
    "print(f'F1 Score is {f1_evaluator.evaluate(prediction)}')"
   ]
  },
  {
   "cell_type": "code",
   "execution_count": 30,
   "metadata": {},
   "outputs": [
    {
     "data": {
      "text/plain": [
       "array([[119489,      0],\n",
       "       [ 16322,      0]])"
      ]
     },
     "execution_count": 30,
     "metadata": {},
     "output_type": "execute_result"
    }
   ],
   "source": [
    "#predictionAndLabels = test.map(lambda lp: (float(model.predict(lp.features)), lp.label))\n",
    "y_true = prediction.select(\"loan_status_binary\")\n",
    "y_true = y_true.toPandas()\n",
    "\n",
    "y_pred = prediction.select(\"prediction\")\n",
    "y_pred = y_pred.toPandas()\n",
    "\n",
    "cnf_matrix = confusion_matrix(y_true, y_pred,labels=[0, 1])\n",
    "cnf_matrix"
   ]
  },
  {
   "cell_type": "code",
   "execution_count": 31,
   "metadata": {},
   "outputs": [
    {
     "name": "stdout",
     "output_type": "stream",
     "text": [
      "Confusion matrix, without normalization\n",
      "[[119489      0]\n",
      " [ 16322      0]]\n"
     ]
    },
    {
     "data": {
      "image/png": "[encoded data removed]",
      "text/plain": [
       "<Figure size 432x288 with 2 Axes>"
      ]
     },
     "metadata": {
      "needs_background": "light"
     },
     "output_type": "display_data"
    }
   ],
   "source": [
    "plt.figure()\n",
    "plot_confusion_matrix(cnf_matrix, classes=[0, 1],\n",
    "                      title='Confusion matrix')\n",
    "plt.show()"
   ]
  },
  {
   "cell_type": "markdown",
   "metadata": {},
   "source": [
    "## Gradient Boosted Trees"
   ]
  },
  {
   "cell_type": "code",
   "execution_count": 8,
   "metadata": {},
   "outputs": [],
   "source": [
    "categories = ['home_ownership', 'term', 'debt_settlement_flag', 'grade_feature']\n",
    "stages = []"
   ]
  },
  {
   "cell_type": "code",
   "execution_count": 9,
   "metadata": {},
   "outputs": [],
   "source": [
    "\n",
    "\n",
    "for col in categories:\n",
    "    stringIndexer = StringIndexer(inputCol=col, outputCol=col + \"_Index\")\n",
    "    encoder = OneHotEncoder(inputCol=stringIndexer.getOutputCol(),\n",
    "                            outputCol=col + \"classVec\")\n",
    "    stages += [stringIndexer, encoder]"
   ]
  },
  {
   "cell_type": "code",
   "execution_count": 10,
   "metadata": {},
   "outputs": [],
   "source": [
    "vectors = VectorAssembler(inputCols = ['loan_amnt', 'home_ownershipclassVec', 'termclassVec',\\\n",
    "                                             'total_pymnt', 'annual_inc', \\\n",
    "                                             'fico_range_low', 'last_pymnt_amnt',\\\n",
    "                                             'int_rate','emp_length_low',\\\n",
    "                                       'delinq_2yrs', 'pub_rec_bankruptcies',\\\n",
    "                                      'grade_featureclassVec','debt_settlement_flagclassVec'], \n",
    "                                 outputCol='features')"
   ]
  },
  {
   "cell_type": "code",
   "execution_count": 11,
   "metadata": {},
   "outputs": [],
   "source": [
    "labelIndexer = StringIndexer(inputCol='loan_status_binary', outputCol='label')"
   ]
  },
  {
   "cell_type": "code",
   "execution_count": 12,
   "metadata": {},
   "outputs": [],
   "source": [
    "gbt = GBTClassifier(maxDepth=15, maxBins=32, maxMemoryInMB=1024)\n",
    "stages += [vectors, labelIndexer, gbt]"
   ]
  },
  {
   "cell_type": "code",
   "execution_count": 13,
   "metadata": {},
   "outputs": [],
   "source": [
    "pipeline = Pipeline(stages=stages)"
   ]
  },
  {
   "cell_type": "code",
   "execution_count": 54,
   "metadata": {},
   "outputs": [],
   "source": [
    "#paramGrid = ParamGridBuilder() \\\n",
    "    #.addGrid(gbt.maxDepth, [20]) \\\n",
    "    #.addGrid(gbt.maxBins, [50])\\\n",
    "    #.build()"
   ]
  },
  {
   "cell_type": "code",
   "execution_count": 55,
   "metadata": {},
   "outputs": [],
   "source": [
    "#crossval = CrossValidator(estimator=pipeline,\n",
    "                          #estimatorParamMaps=paramGrid,\n",
    "                          #evaluator=BinaryClassificationEvaluator(),\n",
    "                          #numFolds=5)"
   ]
  },
  {
   "cell_type": "code",
   "execution_count": 56,
   "metadata": {},
   "outputs": [],
   "source": [
    "# Fit the pipeline\n",
    "#model_gbt = crossval.fit(train)"
   ]
  },
  {
   "cell_type": "code",
   "execution_count": 57,
   "metadata": {},
   "outputs": [],
   "source": [
    "model = pipeline.fit(train)"
   ]
  },
  {
   "cell_type": "code",
   "execution_count": 58,
   "metadata": {},
   "outputs": [],
   "source": [
    "# Make a prediction\n",
    "prediction = model.transform(test)"
   ]
  },
  {
   "cell_type": "code",
   "execution_count": 59,
   "metadata": {},
   "outputs": [
    {
     "name": "stdout",
     "output_type": "stream",
     "text": [
      "Area under P-R Curve is 0.7598429082029488\n",
      "F1 Score is 0.925338425346043\n"
     ]
    }
   ],
   "source": [
    "print(f'Area under P-R Curve is {evaluator.evaluate(prediction)}')\n",
    "print(f'F1 Score is {f1_evaluator.evaluate(prediction)}')"
   ]
  },
  {
   "cell_type": "code",
   "execution_count": 60,
   "metadata": {},
   "outputs": [
    {
     "data": {
      "text/plain": [
       "array([[118057,   1586],\n",
       "       [  7603,   8480]])"
      ]
     },
     "execution_count": 60,
     "metadata": {},
     "output_type": "execute_result"
    }
   ],
   "source": [
    "#predictionAndLabels = test.map(lambda lp: (float(model.predict(lp.features)), lp.label))\n",
    "y_true = prediction.select(\"loan_status_binary\")\n",
    "y_true = y_true.toPandas()\n",
    "\n",
    "y_pred = prediction.select(\"prediction\")\n",
    "y_pred = y_pred.toPandas()\n",
    "\n",
    "cnf_matrix = confusion_matrix(y_true, y_pred,labels=[0, 1])\n",
    "cnf_matrix"
   ]
  },
  {
   "cell_type": "code",
   "execution_count": 61,
   "metadata": {},
   "outputs": [
    {
     "name": "stdout",
     "output_type": "stream",
     "text": [
      "Confusion matrix, without normalization\n",
      "[[118057   1586]\n",
      " [  7603   8480]]\n"
     ]
    },
    {
     "data": {
      "image/png": "[encoded data removed]",
      "text/plain": [
       "<Figure size 432x288 with 2 Axes>"
      ]
     },
     "metadata": {
      "needs_background": "light"
     },
     "output_type": "display_data"
    }
   ],
   "source": [
    "plt.figure()\n",
    "plot_confusion_matrix(cnf_matrix, classes=[0, 1],\n",
    "                      title='Confusion matrix')\n",
    "plt.show()"
   ]
  },
  {
   "cell_type": "markdown",
   "metadata": {},
   "source": [
    "## Random Forest"
   ]
  },
  {
   "cell_type": "code",
   "execution_count": 14,
   "metadata": {},
   "outputs": [],
   "source": [
    "rf = RandomForestClassifier(maxDepth=15, maxBins=32, numTrees=35, maxMemoryInMB=1024)\n",
    "stages[-1] = rf"
   ]
  },
  {
   "cell_type": "code",
   "execution_count": 15,
   "metadata": {},
   "outputs": [],
   "source": [
    "pipeline = Pipeline(stages=stages)"
   ]
  },
  {
   "cell_type": "code",
   "execution_count": 16,
   "metadata": {},
   "outputs": [],
   "source": [
    "#paramGrid = ParamGridBuilder() \\\n",
    "    #.addGrid(rf.maxDepth, [5, 10]) \\\n",
    "    #.addGrid(rf.maxBins, [15, 20])\\\n",
    "    #.addGrid(rf.numTrees, [20, 25])\\\n",
    "    #.build()"
   ]
  },
  {
   "cell_type": "code",
   "execution_count": 17,
   "metadata": {},
   "outputs": [],
   "source": [
    "#crossval = CrossValidator(estimator=pipeline,\n",
    " #                         estimatorParamMaps=paramGrid,\n",
    "  #                        evaluator=BinaryClassificationEvaluator(),\n",
    "   #                       numFolds=5)"
   ]
  },
  {
   "cell_type": "code",
   "execution_count": 18,
   "metadata": {},
   "outputs": [],
   "source": [
    "# Fit the pipeline\n",
    "#model_rf = crossval.fit(train)"
   ]
  },
  {
   "cell_type": "code",
   "execution_count": null,
   "metadata": {},
   "outputs": [],
   "source": [
    "model_rf = pipeline.fit(train)"
   ]
  },
  {
   "cell_type": "code",
   "execution_count": 70,
   "metadata": {},
   "outputs": [],
   "source": [
    "# Make a prediction\n",
    "prediction = model_rf.transform(test)"
   ]
  },
  {
   "cell_type": "code",
   "execution_count": 71,
   "metadata": {},
   "outputs": [
    {
     "name": "stdout",
     "output_type": "stream",
     "text": [
      "Area under P-R Curve is 0.6378786883381681\n",
      "F1 Score is 0.8885824112850336\n"
     ]
    }
   ],
   "source": [
    "print(f'Area under P-R Curve is {evaluator.evaluate(prediction)}')\n",
    "print(f'F1 Score is {f1_evaluator.evaluate(prediction)}')"
   ]
  },
  {
   "cell_type": "code",
   "execution_count": 52,
   "metadata": {},
   "outputs": [
    {
     "data": {
      "text/plain": [
       "{Param(parent='RandomForestClassifier_dfd066075de7', name='cacheNodeIds', doc='If false, the algorithm will pass trees to executors to match instances with nodes. If true, the algorithm will cache node IDs for each instance. Caching can speed up training of deeper trees.'): False,\n",
       " Param(parent='RandomForestClassifier_dfd066075de7', name='checkpointInterval', doc='set checkpoint interval (>= 1) or disable checkpoint (-1). E.g. 10 means that the cache will get checkpointed every 10 iterations. Note: this setting will be ignored if the checkpoint directory is not set in the SparkContext'): 10,\n",
       " Param(parent='RandomForestClassifier_dfd066075de7', name='featureSubsetStrategy', doc='The number of features to consider for splits at each tree node. Supported options: auto, all, onethird, sqrt, log2, (0.0-1.0], [1-n].'): 'auto',\n",
       " Param(parent='RandomForestClassifier_dfd066075de7', name='featuresCol', doc='features column name'): 'features',\n",
       " Param(parent='RandomForestClassifier_dfd066075de7', name='impurity', doc='Criterion used for information gain calculation (case-insensitive). Supported options: entropy, gini'): 'gini',\n",
       " Param(parent='RandomForestClassifier_dfd066075de7', name='labelCol', doc='label column name'): 'label',\n",
       " Param(parent='RandomForestClassifier_dfd066075de7', name='maxBins', doc='Max number of bins for discretizing continuous features.  Must be at least 2 and at least number of categories for any categorical feature.'): 20,\n",
       " Param(parent='RandomForestClassifier_dfd066075de7', name='maxDepth', doc='Maximum depth of the tree. (Nonnegative) E.g., depth 0 means 1 leaf node; depth 1 means 1 internal node + 2 leaf nodes.'): 10,\n",
       " Param(parent='RandomForestClassifier_dfd066075de7', name='maxMemoryInMB', doc='Maximum memory in MB allocated to histogram aggregation.'): 1024,\n",
       " Param(parent='RandomForestClassifier_dfd066075de7', name='minInfoGain', doc='Minimum information gain for a split to be considered at a tree node.'): 0.0,\n",
       " Param(parent='RandomForestClassifier_dfd066075de7', name='minInstancesPerNode', doc='Minimum number of instances each child must have after split.  If a split causes the left or right child to have fewer than minInstancesPerNode, the split will be discarded as invalid. Must be at least 1.'): 1,\n",
       " Param(parent='RandomForestClassifier_dfd066075de7', name='numTrees', doc='Number of trees to train (at least 1)'): 25,\n",
       " Param(parent='RandomForestClassifier_dfd066075de7', name='predictionCol', doc='prediction column name'): 'prediction',\n",
       " Param(parent='RandomForestClassifier_dfd066075de7', name='probabilityCol', doc='Column name for predicted class conditional probabilities. Note: Not all models output well-calibrated probability estimates! These probabilities should be treated as confidences, not precise probabilities'): 'probability',\n",
       " Param(parent='RandomForestClassifier_dfd066075de7', name='rawPredictionCol', doc='raw prediction (a.k.a. confidence) column name'): 'rawPrediction',\n",
       " Param(parent='RandomForestClassifier_dfd066075de7', name='seed', doc='random seed'): -1132225249839834756,\n",
       " Param(parent='RandomForestClassifier_dfd066075de7', name='subsamplingRate', doc='Fraction of the training data used for learning each decision tree, in range (0, 1].'): 1.0}"
      ]
     },
     "execution_count": 52,
     "metadata": {},
     "output_type": "execute_result"
    }
   ],
   "source": [
    "#Find Best Parameters\n",
    "bestPipeline = model_rf.bestModel\n",
    "bestLRModel = bestPipeline.stages[-1]\n",
    "bestParams = bestLRModel.extractParamMap()\n",
    "bestParams\n",
    "#As with GBT, it wants higher values for parameters to improve performance"
   ]
  },
  {
   "cell_type": "code",
   "execution_count": 60,
   "metadata": {},
   "outputs": [
    {
     "data": {
      "text/plain": [
       "array([[118057,   1586],\n",
       "       [  7603,   8480]])"
      ]
     },
     "execution_count": 60,
     "metadata": {},
     "output_type": "execute_result"
    }
   ],
   "source": [
    "#predictionAndLabels = test.map(lambda lp: (float(model.predict(lp.features)), lp.label))\n",
    "y_true = prediction.select(\"loan_status_binary\")\n",
    "y_true = y_true.toPandas()\n",
    "\n",
    "y_pred = prediction.select(\"prediction\")\n",
    "y_pred = y_pred.toPandas()\n",
    "\n",
    "cnf_matrix = confusion_matrix(y_true, y_pred,labels=[0, 1])\n",
    "cnf_matrix"
   ]
  },
  {
   "cell_type": "code",
   "execution_count": 61,
   "metadata": {},
   "outputs": [
    {
     "name": "stdout",
     "output_type": "stream",
     "text": [
      "Confusion matrix, without normalization\n",
      "[[118057   1586]\n",
      " [  7603   8480]]\n"
     ]
    },
    {
     "data": {
      "image/png": "[encoded data removed]",
      "text/plain": [
       "<Figure size 432x288 with 2 Axes>"
      ]
     },
     "metadata": {
      "needs_background": "light"
     },
     "output_type": "display_data"
    }
   ],
   "source": [
    "plt.figure()\n",
    "plot_confusion_matrix(cnf_matrix, classes=[0, 1],\n",
    "                      title='Confusion matrix')\n",
    "plt.show()"
   ]
  },
  {
   "cell_type": "markdown",
   "metadata": {},
   "source": [
    "## Naive Bayes Model"
   ]
  },
  {
   "cell_type": "code",
   "execution_count": 7,
   "metadata": {},
   "outputs": [],
   "source": [
    "categories = ['home_ownership', 'term', 'debt_settlement_flag', 'grade_feature']\n",
    "stages = []\n",
    "\n",
    "labelIndexer = StringIndexer(inputCol='loan_status_binary', outputCol='label')\n",
    "\n",
    "for col in categories:\n",
    "    stringIndexer = StringIndexer(inputCol=col, outputCol=col + \"_Index\")\n",
    "    encoder = OneHotEncoder(inputCol=stringIndexer.getOutputCol(),\n",
    "                            outputCol=col + \"classVec\")\n",
    "    stages += [stringIndexer, encoder]\n",
    "\n",
    "vectors = VectorAssembler(inputCols = ['loan_amnt', 'home_ownershipclassVec', 'termclassVec',\\\n",
    "                                             'total_pymnt', 'annual_inc', \\\n",
    "                                             'fico_range_low', 'last_pymnt_amnt',\\\n",
    "                                             'int_rate','emp_length_low',\\\n",
    "                                      'grade_featureclassVec','debt_settlement_flagclassVec',\\\n",
    "                                      'delinq_2yrs', 'pub_rec_bankruptcies'], \n",
    "                                 outputCol='vector_features')\n",
    "assembler = VectorAssembler(inputCols=['vector_features', 'home_ownershipclassVec', 'termclassVec', \\\n",
    "                                       'debt_settlement_flagclassVec','grade_featureclassVec' ], outputCol='features')"
   ]
  },
  {
   "cell_type": "code",
   "execution_count": 10,
   "metadata": {},
   "outputs": [],
   "source": [
    "nb = NaiveBayes(labelCol=\"label\", featuresCol=\"vector_features\", modelType = \"multinomial\")\n",
    "\n",
    "stages += [vectors, labelIndexer, nb]\n",
    "\n",
    "pipeline = Pipeline(stages=stages)\n",
    "# Create ParamGrid for Cross Validation\n",
    "nbparamGrid = (ParamGridBuilder()\n",
    "               .addGrid(nb.smoothing, [0.0, 0.2, 0.4, 0.6, 0.8, 1.0])\n",
    "               .build())\n",
    "\n",
    "# Evaluate model\n",
    "#nbevaluator = BinaryClassificationEvaluator(rawPredictionCol=\"rawPrediction\")\n",
    "\n",
    "# Create 5-fold CrossValidator\n",
    "nbcv = CrossValidator(estimator = pipeline,\n",
    "                    estimatorParamMaps = nbparamGrid,\n",
    "                    evaluator=BinaryClassificationEvaluator(),\n",
    "                    #evaluator = nbevaluator,\n",
    "                    numFolds = 5)"
   ]
  },
  {
   "cell_type": "code",
   "execution_count": 11,
   "metadata": {},
   "outputs": [],
   "source": [
    "model_n_bayes = nbcv.fit(train)"
   ]
  },
  {
   "cell_type": "code",
   "execution_count": 12,
   "metadata": {},
   "outputs": [
    {
     "name": "stdout",
     "output_type": "stream",
     "text": [
      "+------------------+---------+----------+--------+--------------+-----------+-----------+----------+----------+--------------+---------------+--------------------+--------------------+-----------+-------------+--------------+--------------------+----------------------+----------+-------------+--------------------------+----------------------------+-------------------+---------------------+--------------------+-----+--------------------+-----------+----------+\n",
      "|loan_status_binary|loan_amnt|      term|int_rate|home_ownership|tot_cur_bal|total_pymnt|annual_inc|addr_state|fico_range_low|last_pymnt_amnt|debt_settlement_flag|pub_rec_bankruptcies|delinq_2yrs|grade_feature|emp_length_low|home_ownership_Index|home_ownershipclassVec|term_Index| termclassVec|debt_settlement_flag_Index|debt_settlement_flagclassVec|grade_feature_Index|grade_featureclassVec|     vector_features|label|       rawPrediction|probability|prediction|\n",
      "+------------------+---------+----------+--------+--------------+-----------+-----------+----------+----------+--------------+---------------+--------------------+--------------------+-----------+-------------+--------------+--------------------+----------------------+----------+-------------+--------------------------+----------------------------+-------------------+---------------------+--------------------+-----+--------------------+-----------+----------+\n",
      "|                 0|   1000.0| 36 months|    6.46|          RENT|    13672.0|     121.84|   50000.0|        CA|         695.0|          30.64|                   N|                 1.0|        0.0|           AB|             1|                 1.0|         (5,[1],[1.0])|       0.0|(1,[0],[1.0])|                       0.0|               (1,[0],[1.0])|                0.0|        (2,[0],[1.0])|[1000.0,0.0,1.0,0...|  0.0|[-23109.181746844...|  [0.0,1.0]|       1.0|\n",
      "|                 0|   1000.0| 36 months|    6.62|          RENT|     6160.0|  1095.3035|  150000.0|        CA|         825.0|            0.9|                   N|                 0.0|        0.0|           AB|             1|                 1.0|         (5,[1],[1.0])|       0.0|(1,[0],[1.0])|                       0.0|               (1,[0],[1.0])|                0.0|        (2,[0],[1.0])|[1000.0,0.0,1.0,0...|  0.0|[-59942.042054883...|  [0.0,1.0]|       1.0|\n",
      "+------------------+---------+----------+--------+--------------+-----------+-----------+----------+----------+--------------+---------------+--------------------+--------------------+-----------+-------------+--------------+--------------------+----------------------+----------+-------------+--------------------------+----------------------------+-------------------+---------------------+--------------------+-----+--------------------+-----------+----------+\n",
      "only showing top 2 rows\n",
      "\n"
     ]
    }
   ],
   "source": [
    "prediction = model_n_bayes.transform(test)\n",
    "prediction.show(2)"
   ]
  },
  {
   "cell_type": "code",
   "execution_count": 18,
   "metadata": {},
   "outputs": [
    {
     "data": {
      "text/plain": [
       "{Param(parent='NaiveBayes_f2e130135cdc', name='featuresCol', doc='features column name'): 'vector_features',\n",
       " Param(parent='NaiveBayes_f2e130135cdc', name='labelCol', doc='label column name'): 'label',\n",
       " Param(parent='NaiveBayes_f2e130135cdc', name='modelType', doc='The model type which is a string (case-sensitive). Supported options: multinomial (default) and bernoulli.'): 'multinomial',\n",
       " Param(parent='NaiveBayes_f2e130135cdc', name='predictionCol', doc='prediction column name'): 'prediction',\n",
       " Param(parent='NaiveBayes_f2e130135cdc', name='probabilityCol', doc='Column name for predicted class conditional probabilities. Note: Not all models output well-calibrated probability estimates! These probabilities should be treated as confidences, not precise probabilities'): 'probability',\n",
       " Param(parent='NaiveBayes_f2e130135cdc', name='rawPredictionCol', doc='raw prediction (a.k.a. confidence) column name'): 'rawPrediction',\n",
       " Param(parent='NaiveBayes_f2e130135cdc', name='smoothing', doc='The smoothing parameter.'): 0.0}"
      ]
     },
     "execution_count": 18,
     "metadata": {},
     "output_type": "execute_result"
    }
   ],
   "source": [
    "bestPipeline = model_n_bayes.bestModel\n",
    "bestNBModel = bestPipeline.stages[-1]\n",
    "bestParams = bestNBModel.extractParamMap()\n",
    "bestParams"
   ]
  },
  {
   "cell_type": "code",
   "execution_count": 16,
   "metadata": {},
   "outputs": [
    {
     "data": {
      "text/plain": [
       "array([[55176, 64313],\n",
       "       [  855, 15467]])"
      ]
     },
     "execution_count": 16,
     "metadata": {},
     "output_type": "execute_result"
    }
   ],
   "source": [
    "#predictionAndLabels = test.map(lambda lp: (float(model.predict(lp.features)), lp.label))\n",
    "y_true = prediction.select(\"loan_status_binary\")\n",
    "y_true = y_true.toPandas()\n",
    "\n",
    "y_pred = prediction.select(\"prediction\")\n",
    "y_pred = y_pred.toPandas()\n",
    "\n",
    "cnf_matrix = confusion_matrix(y_true, y_pred,labels=[0, 1])\n",
    "cnf_matrix"
   ]
  },
  {
   "cell_type": "code",
   "execution_count": 17,
   "metadata": {},
   "outputs": [
    {
     "name": "stdout",
     "output_type": "stream",
     "text": [
      "Confusion matrix, without normalization\n",
      "[[55176 64313]\n",
      " [  855 15467]]\n"
     ]
    },
    {
     "data": {
      "image/png": "[encoded data removed]",
      "text/plain": [
       "<Figure size 432x288 with 2 Axes>"
      ]
     },
     "metadata": {
      "needs_background": "light"
     },
     "output_type": "display_data"
    }
   ],
   "source": [
    "plt.figure()\n",
    "plot_confusion_matrix(cnf_matrix, classes=[0, 1],\n",
    "                      title='Confusion matrix')\n",
    "plt.show()"
   ]
  },
  {
   "cell_type": "code",
   "execution_count": null,
   "metadata": {},
   "outputs": [],
   "source": []
  }
 ],
 "metadata": {
  "kernelspec": {
   "display_name": "DS 5559",
   "language": "python",
   "name": "ds5559"
  },
  "language_info": {
   "codemirror_mode": {
    "name": "ipython",
    "version": 3
   },
   "file_extension": ".py",
   "mimetype": "text/x-python",
   "name": "python",
   "nbconvert_exporter": "python",
   "pygments_lexer": "ipython3",
   "version": "3.7.6"
  }
 },
 "nbformat": 4,
 "nbformat_minor": 4
}
