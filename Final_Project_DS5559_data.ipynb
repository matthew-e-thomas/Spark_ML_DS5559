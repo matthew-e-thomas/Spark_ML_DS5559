{
 "cells": [
  {
   "cell_type": "code",
   "execution_count": 1,
   "metadata": {},
   "outputs": [],
   "source": [
    "from pyspark.sql import SparkSession\n",
    "spark = SparkSession.builder.getOrCreate()\n",
    "sc = spark.sparkContext"
   ]
  },
  {
   "cell_type": "code",
   "execution_count": 2,
   "metadata": {},
   "outputs": [],
   "source": [
    "import pyspark.sql.functions as F"
   ]
  },
  {
   "cell_type": "code",
   "execution_count": 3,
   "metadata": {},
   "outputs": [
    {
     "name": "stdout",
     "output_type": "stream",
     "text": [
      "root\n",
      " |-- id: string (nullable = true)\n",
      " |-- member_id: string (nullable = true)\n",
      " |-- loan_amnt: double (nullable = true)\n",
      " |-- funded_amnt: double (nullable = true)\n",
      " |-- funded_amnt_inv: double (nullable = true)\n",
      " |-- term: string (nullable = true)\n",
      " |-- int_rate: double (nullable = true)\n",
      " |-- installment: double (nullable = true)\n",
      " |-- grade: string (nullable = true)\n",
      " |-- sub_grade: string (nullable = true)\n",
      " |-- emp_title: string (nullable = true)\n",
      " |-- emp_length: string (nullable = true)\n",
      " |-- home_ownership: string (nullable = true)\n",
      " |-- annual_inc: string (nullable = true)\n",
      " |-- verification_status: string (nullable = true)\n",
      " |-- issue_d: string (nullable = true)\n",
      " |-- loan_status: string (nullable = true)\n",
      " |-- pymnt_plan: string (nullable = true)\n",
      " |-- url: string (nullable = true)\n",
      " |-- desc: string (nullable = true)\n",
      " |-- purpose: string (nullable = true)\n",
      " |-- title: string (nullable = true)\n",
      " |-- zip_code: string (nullable = true)\n",
      " |-- addr_state: string (nullable = true)\n",
      " |-- dti: string (nullable = true)\n",
      " |-- delinq_2yrs: string (nullable = true)\n",
      " |-- earliest_cr_line: string (nullable = true)\n",
      " |-- fico_range_low: string (nullable = true)\n",
      " |-- fico_range_high: string (nullable = true)\n",
      " |-- inq_last_6mths: string (nullable = true)\n",
      " |-- mths_since_last_delinq: string (nullable = true)\n",
      " |-- mths_since_last_record: string (nullable = true)\n",
      " |-- open_acc: string (nullable = true)\n",
      " |-- pub_rec: string (nullable = true)\n",
      " |-- revol_bal: string (nullable = true)\n",
      " |-- revol_util: string (nullable = true)\n",
      " |-- total_acc: string (nullable = true)\n",
      " |-- initial_list_status: string (nullable = true)\n",
      " |-- out_prncp: string (nullable = true)\n",
      " |-- out_prncp_inv: string (nullable = true)\n",
      " |-- total_pymnt: string (nullable = true)\n",
      " |-- total_pymnt_inv: string (nullable = true)\n",
      " |-- total_rec_prncp: string (nullable = true)\n",
      " |-- total_rec_int: string (nullable = true)\n",
      " |-- total_rec_late_fee: string (nullable = true)\n",
      " |-- recoveries: string (nullable = true)\n",
      " |-- collection_recovery_fee: string (nullable = true)\n",
      " |-- last_pymnt_d: string (nullable = true)\n",
      " |-- last_pymnt_amnt: string (nullable = true)\n",
      " |-- next_pymnt_d: string (nullable = true)\n",
      " |-- last_credit_pull_d: string (nullable = true)\n",
      " |-- last_fico_range_high: string (nullable = true)\n",
      " |-- last_fico_range_low: string (nullable = true)\n",
      " |-- collections_12_mths_ex_med: string (nullable = true)\n",
      " |-- mths_since_last_major_derog: string (nullable = true)\n",
      " |-- policy_code: string (nullable = true)\n",
      " |-- application_type: string (nullable = true)\n",
      " |-- annual_inc_joint: string (nullable = true)\n",
      " |-- dti_joint: string (nullable = true)\n",
      " |-- verification_status_joint: string (nullable = true)\n",
      " |-- acc_now_delinq: string (nullable = true)\n",
      " |-- tot_coll_amt: string (nullable = true)\n",
      " |-- tot_cur_bal: string (nullable = true)\n",
      " |-- open_acc_6m: string (nullable = true)\n",
      " |-- open_act_il: string (nullable = true)\n",
      " |-- open_il_12m: string (nullable = true)\n",
      " |-- open_il_24m: string (nullable = true)\n",
      " |-- mths_since_rcnt_il: string (nullable = true)\n",
      " |-- total_bal_il: string (nullable = true)\n",
      " |-- il_util: string (nullable = true)\n",
      " |-- open_rv_12m: string (nullable = true)\n",
      " |-- open_rv_24m: string (nullable = true)\n",
      " |-- max_bal_bc: string (nullable = true)\n",
      " |-- all_util: string (nullable = true)\n",
      " |-- total_rev_hi_lim: string (nullable = true)\n",
      " |-- inq_fi: string (nullable = true)\n",
      " |-- total_cu_tl: string (nullable = true)\n",
      " |-- inq_last_12m: double (nullable = true)\n",
      " |-- acc_open_past_24mths: double (nullable = true)\n",
      " |-- avg_cur_bal: string (nullable = true)\n",
      " |-- bc_open_to_buy: double (nullable = true)\n",
      " |-- bc_util: string (nullable = true)\n",
      " |-- chargeoff_within_12_mths: double (nullable = true)\n",
      " |-- delinq_amnt: double (nullable = true)\n",
      " |-- mo_sin_old_il_acct: double (nullable = true)\n",
      " |-- mo_sin_old_rev_tl_op: double (nullable = true)\n",
      " |-- mo_sin_rcnt_rev_tl_op: double (nullable = true)\n",
      " |-- mo_sin_rcnt_tl: double (nullable = true)\n",
      " |-- mort_acc: double (nullable = true)\n",
      " |-- mths_since_recent_bc: double (nullable = true)\n",
      " |-- mths_since_recent_bc_dlq: double (nullable = true)\n",
      " |-- mths_since_recent_inq: double (nullable = true)\n",
      " |-- mths_since_recent_revol_delinq: double (nullable = true)\n",
      " |-- num_accts_ever_120_pd: double (nullable = true)\n",
      " |-- num_actv_bc_tl: double (nullable = true)\n",
      " |-- num_actv_rev_tl: double (nullable = true)\n",
      " |-- num_bc_sats: double (nullable = true)\n",
      " |-- num_bc_tl: double (nullable = true)\n",
      " |-- num_il_tl: double (nullable = true)\n",
      " |-- num_op_rev_tl: double (nullable = true)\n",
      " |-- num_rev_accts: double (nullable = true)\n",
      " |-- num_rev_tl_bal_gt_0: double (nullable = true)\n",
      " |-- num_sats: double (nullable = true)\n",
      " |-- num_tl_120dpd_2m: double (nullable = true)\n",
      " |-- num_tl_30dpd: double (nullable = true)\n",
      " |-- num_tl_90g_dpd_24m: double (nullable = true)\n",
      " |-- num_tl_op_past_12m: double (nullable = true)\n",
      " |-- pct_tl_nvr_dlq: double (nullable = true)\n",
      " |-- percent_bc_gt_75: double (nullable = true)\n",
      " |-- pub_rec_bankruptcies: double (nullable = true)\n",
      " |-- tax_liens: double (nullable = true)\n",
      " |-- tot_hi_cred_lim: double (nullable = true)\n",
      " |-- total_bal_ex_mort: double (nullable = true)\n",
      " |-- total_bc_limit: double (nullable = true)\n",
      " |-- total_il_high_credit_limit: double (nullable = true)\n",
      " |-- revol_bal_joint: double (nullable = true)\n",
      " |-- sec_app_fico_range_low: double (nullable = true)\n",
      " |-- sec_app_fico_range_high: double (nullable = true)\n",
      " |-- sec_app_earliest_cr_line: string (nullable = true)\n",
      " |-- sec_app_inq_last_6mths: double (nullable = true)\n",
      " |-- sec_app_mort_acc: double (nullable = true)\n",
      " |-- sec_app_open_acc: double (nullable = true)\n",
      " |-- sec_app_revol_util: double (nullable = true)\n",
      " |-- sec_app_open_act_il: double (nullable = true)\n",
      " |-- sec_app_num_rev_accts: double (nullable = true)\n",
      " |-- sec_app_chargeoff_within_12_mths: double (nullable = true)\n",
      " |-- sec_app_collections_12_mths_ex_med: double (nullable = true)\n",
      " |-- sec_app_mths_since_last_major_derog: double (nullable = true)\n",
      " |-- hardship_flag: string (nullable = true)\n",
      " |-- hardship_type: string (nullable = true)\n",
      " |-- hardship_reason: string (nullable = true)\n",
      " |-- hardship_status: string (nullable = true)\n",
      " |-- deferral_term: string (nullable = true)\n",
      " |-- hardship_amount: string (nullable = true)\n",
      " |-- hardship_start_date: string (nullable = true)\n",
      " |-- hardship_end_date: string (nullable = true)\n",
      " |-- payment_plan_start_date: string (nullable = true)\n",
      " |-- hardship_length: string (nullable = true)\n",
      " |-- hardship_dpd: string (nullable = true)\n",
      " |-- hardship_loan_status: string (nullable = true)\n",
      " |-- orig_projected_additional_accrued_interest: string (nullable = true)\n",
      " |-- hardship_payoff_balance_amount: string (nullable = true)\n",
      " |-- hardship_last_payment_amount: string (nullable = true)\n",
      " |-- disbursement_method: string (nullable = true)\n",
      " |-- debt_settlement_flag: string (nullable = true)\n",
      " |-- debt_settlement_flag_date: string (nullable = true)\n",
      " |-- settlement_status: string (nullable = true)\n",
      " |-- settlement_date: string (nullable = true)\n",
      " |-- settlement_amount: string (nullable = true)\n",
      " |-- settlement_percentage: string (nullable = true)\n",
      " |-- settlement_term: string (nullable = true)\n",
      "\n"
     ]
    }
   ],
   "source": [
    "lending = spark.read.csv('accepted_2007_to_2018Q4.csv.gz', inferSchema=True, header=True)\n",
    "lending.printSchema()"
   ]
  },
  {
   "cell_type": "markdown",
   "metadata": {},
   "source": [
    "## Decide on categories for features\n",
    "loan_amnt, funded_amnt, term, int_rate, grade, emp_length, home_ownership, annual_inc, addr_state?, fico_range_low (there's no point in using both FICO fields, they are close together and highly correlated), what else??"
   ]
  },
  {
   "cell_type": "code",
   "execution_count": 5,
   "metadata": {},
   "outputs": [
    {
     "name": "stdout",
     "output_type": "stream",
     "text": [
      "+--------------------+\n",
      "|         loan_status|\n",
      "+--------------------+\n",
      "|          Fully Paid|\n",
      "|             Default|\n",
      "|                null|\n",
      "|     In Grace Period|\n",
      "|Does not meet the...|\n",
      "|         Charged Off|\n",
      "|            Oct-2015|\n",
      "|  Late (31-120 days)|\n",
      "|             Current|\n",
      "|Does not meet the...|\n",
      "|   Late (16-30 days)|\n",
      "+--------------------+\n",
      "\n"
     ]
    }
   ],
   "source": [
    "lending.select('loan_status').distinct().show() #shows different loan statuses"
   ]
  },
  {
   "cell_type": "markdown",
   "metadata": {},
   "source": [
    "Response variable is loan_status. We'll need to change to a binary with 'Default', 'Charged Off', and 'Does not meet the credit policy. Status:Charged Off' can be 1 for default and the others can be 0 for not defaulted. Null rows will need to be deleted."
   ]
  },
  {
   "cell_type": "code",
   "execution_count": 4,
   "metadata": {},
   "outputs": [],
   "source": [
    "df_train = lending.select('loan_amnt', 'term', 'int_rate', 'grade', 'emp_length',\n",
    "                          'home_ownership', 'tot_cur_bal', 'total_pymnt', 'annual_inc', 'addr_state', 'fico_range_low')"
   ]
  },
  {
   "cell_type": "code",
   "execution_count": 5,
   "metadata": {},
   "outputs": [
    {
     "data": {
      "text/plain": [
       "[Row(loan_amnt=3600.0, term=' 36 months', int_rate=13.99, grade='C', emp_length='10+ years', home_ownership='MORTGAGE', tot_cur_bal='144904.0', total_pymnt='4421.723916800001', annual_inc='55000.0', addr_state='PA', fico_range_low='675.0'),\n",
       " Row(loan_amnt=24700.0, term=' 36 months', int_rate=11.99, grade='C', emp_length='10+ years', home_ownership='MORTGAGE', tot_cur_bal='204396.0', total_pymnt='25679.66', annual_inc='65000.0', addr_state='SD', fico_range_low='715.0'),\n",
       " Row(loan_amnt=20000.0, term=' 60 months', int_rate=10.78, grade='B', emp_length='10+ years', home_ownership='MORTGAGE', tot_cur_bal='189699.0', total_pymnt='22705.924293878397', annual_inc='63000.0', addr_state='IL', fico_range_low='695.0')]"
      ]
     },
     "execution_count": 5,
     "metadata": {},
     "output_type": "execute_result"
    }
   ],
   "source": [
    "df_train.take(3)"
   ]
  },
  {
   "cell_type": "code",
   "execution_count": 6,
   "metadata": {},
   "outputs": [
    {
     "data": {
      "text/plain": [
       "DataFrame[loan_amnt: double, term: string, int_rate: double, grade: string, emp_length: string, home_ownership: string, tot_cur_bal: string, total_pymnt: string, annual_inc: string, addr_state: string, fico_range_low: string]"
      ]
     },
     "execution_count": 6,
     "metadata": {},
     "output_type": "execute_result"
    }
   ],
   "source": [
    "df_train.cache()"
   ]
  },
  {
   "cell_type": "code",
   "execution_count": 7,
   "metadata": {},
   "outputs": [
    {
     "name": "stdout",
     "output_type": "stream",
     "text": [
      "+----------+\n",
      "|      term|\n",
      "+----------+\n",
      "| 36 months|\n",
      "|      null|\n",
      "| 60 months|\n",
      "+----------+\n",
      "\n"
     ]
    }
   ],
   "source": [
    "#Find different term levels\n",
    "df_train.select('term').distinct().show()"
   ]
  },
  {
   "cell_type": "code",
   "execution_count": 12,
   "metadata": {},
   "outputs": [
    {
     "name": "stdout",
     "output_type": "stream",
     "text": [
      "+--------------------+--------------------+--------------------+--------------------+-------------------+--------------------+--------------------+--------------------+--------------------+--------------------+--------------------+\n",
      "|      loan_amnt_miss|           term_miss|       int_rate_miss|          grade_miss|    emp_length_miss| home_ownership_miss|    tot_cur_bal_miss|    total_pymnt_miss|     annual_inc_miss|     addr_state_miss| fico_range_low_miss|\n",
      "+--------------------+--------------------+--------------------+--------------------+-------------------+--------------------+--------------------+--------------------+--------------------+--------------------+--------------------+\n",
      "|1.459724218288993...|1.459724218288993...|1.459724218288993...|1.459724218288993...|0.06499753837415911|1.459724218288993...|0.031054084551650152|2.034767092151668E-5|1.636660487169816...|1.503958285509199...|1.503958285509199...|\n",
      "+--------------------+--------------------+--------------------+--------------------+-------------------+--------------------+--------------------+--------------------+--------------------+--------------------+--------------------+\n",
      "\n"
     ]
    }
   ],
   "source": [
    "# for each field, compute missing percentage\n",
    "\n",
    "df_train.agg(*[\n",
    "    (1 - F.count(c) / F.count('*')).alias(c + '_miss')\n",
    "    for c in df_train.columns\n",
    "]).show()"
   ]
  },
  {
   "cell_type": "code",
   "execution_count": 21,
   "metadata": {},
   "outputs": [
    {
     "name": "stdout",
     "output_type": "stream",
     "text": [
      "root\n",
      " |-- loan_amnt: double (nullable = true)\n",
      " |-- term: string (nullable = true)\n",
      " |-- int_rate: double (nullable = true)\n",
      " |-- grade: string (nullable = true)\n",
      " |-- emp_length: string (nullable = true)\n",
      " |-- home_ownership: string (nullable = true)\n",
      " |-- tot_cur_bal: float (nullable = true)\n",
      " |-- total_pymnt: float (nullable = true)\n",
      " |-- annual_inc: string (nullable = true)\n",
      " |-- addr_state: string (nullable = true)\n",
      " |-- fico_range_low: float (nullable = true)\n",
      "\n"
     ]
    }
   ],
   "source": [
    "df_train.printSchema()"
   ]
  },
  {
   "cell_type": "code",
   "execution_count": 11,
   "metadata": {},
   "outputs": [
    {
     "name": "stdout",
     "output_type": "stream",
     "text": [
      "rows=2260701\n"
     ]
    }
   ],
   "source": [
    "# row count\n",
    "print(f'rows={df_train.count()}')"
   ]
  },
  {
   "cell_type": "code",
   "execution_count": 12,
   "metadata": {},
   "outputs": [
    {
     "name": "stdout",
     "output_type": "stream",
     "text": [
      "rows=2259027\n"
     ]
    }
   ],
   "source": [
    "# distinct row count\n",
    "print(f'rows={df_train.distinct().count()}')"
   ]
  },
  {
   "cell_type": "code",
   "execution_count": 8,
   "metadata": {},
   "outputs": [
    {
     "name": "stdout",
     "output_type": "stream",
     "text": [
      "rows=2260669\n"
     ]
    }
   ],
   "source": [
    "#Looks like there are duplicates so we will drop those\n",
    "df_train = df_train.dropDuplicates()\n",
    "print(f'rows={df_train.count()}')"
   ]
  },
  {
   "cell_type": "code",
   "execution_count": 9,
   "metadata": {},
   "outputs": [],
   "source": [
    "#Convert these columns since they are numbers but cast as strings in original data\n",
    "df_train = df_train.withColumn(\"tot_cur_bal\", df_train['tot_cur_bal'].cast('float'))\n",
    "df_train = df_train.withColumn(\"total_pymnt\", df_train[\"total_pymnt\"].cast('float'))\n",
    "df_train = df_train.withColumn(\"fico_range_low\", df_train[\"fico_range_low\"].cast('float'))"
   ]
  },
  {
   "cell_type": "code",
   "execution_count": 10,
   "metadata": {},
   "outputs": [
    {
     "name": "stdout",
     "output_type": "stream",
     "text": [
      "+-------+------------------+------------------+------------------+------------------+\n",
      "|summary|         loan_amnt|          int_rate|       tot_cur_bal|       total_pymnt|\n",
      "+-------+------------------+------------------+------------------+------------------+\n",
      "|  count|           2260668|           2260668|           2190484|           2260607|\n",
      "|   mean|15046.931227849467|13.092829115111373|  142486.039012547|12081.553566208604|\n",
      "| stddev| 9190.245488232784| 4.832138364571108|160691.95987801175| 9901.812291187154|\n",
      "|    min|             500.0|              5.31|               0.0|               0.0|\n",
      "|    max|           40000.0|             30.99|         9971659.0|          63296.88|\n",
      "+-------+------------------+------------------+------------------+------------------+\n",
      "\n"
     ]
    }
   ],
   "source": [
    "#Descriptive stats on numerical columns\n",
    "df_train.describe('loan_amnt', 'int_rate', 'tot_cur_bal', 'total_pymnt').show()"
   ]
  },
  {
   "cell_type": "code",
   "execution_count": 14,
   "metadata": {},
   "outputs": [
    {
     "name": "stdout",
     "output_type": "stream",
     "text": [
      "+------------------+------+\n",
      "|        addr_state| count|\n",
      "+------------------+------+\n",
      "|                CA|313835|\n",
      "|                TX|186145|\n",
      "|                NY|186137|\n",
      "|                FL|161833|\n",
      "|                IL| 91093|\n",
      "|                NJ| 83063|\n",
      "|                PA| 76893|\n",
      "|                OH| 75085|\n",
      "|                GA| 74159|\n",
      "|                VA| 62931|\n",
      "|                NC| 62708|\n",
      "|                MI| 58740|\n",
      "|                MD| 53985|\n",
      "|                AZ| 53752|\n",
      "|                MA| 51754|\n",
      "|                CO| 48170|\n",
      "|                WA| 47043|\n",
      "|                MN| 39503|\n",
      "|                IN| 37505|\n",
      "|                MO| 36076|\n",
      "|                CT| 35773|\n",
      "|                TN| 35482|\n",
      "|                NV| 32640|\n",
      "|                WI| 29869|\n",
      "|                SC| 27996|\n",
      "|                AL| 27282|\n",
      "|                OR| 26786|\n",
      "|                LA| 25750|\n",
      "|                KY| 21875|\n",
      "|                OK| 20691|\n",
      "|                KS| 19104|\n",
      "|                AR| 17074|\n",
      "|                UT| 14990|\n",
      "|                MS| 12633|\n",
      "|                NM| 11984|\n",
      "|                NH| 11140|\n",
      "|                HI| 10665|\n",
      "|                RI| 10003|\n",
      "|                WV|  8349|\n",
      "|                NE|  7818|\n",
      "|                DE|  6456|\n",
      "|                MT|  6298|\n",
      "|                DC|  5355|\n",
      "|                AK|  5229|\n",
      "|                ME|  4972|\n",
      "|                VT|  4937|\n",
      "|                WY|  4747|\n",
      "|                SD|  4549|\n",
      "|                ID|  4308|\n",
      "|                ND|  3591|\n",
      "|                IA|    14|\n",
      "|debt_consolidation|    13|\n",
      "|       credit_card|    10|\n",
      "|             other|     5|\n",
      "|    major_purchase|     5|\n",
      "|             941xx|     2|\n",
      "+------------------+------+\n",
      "only showing top 56 rows\n",
      "\n"
     ]
    }
   ],
   "source": [
    "df_train.groupBy('addr_state').count().orderBy('count', ascending=False).show(56)\n"
   ]
  },
  {
   "cell_type": "markdown",
   "metadata": {},
   "source": [
    "It looks like there are some categories that aren't actually states, we'll need to get rid of those"
   ]
  },
  {
   "cell_type": "code",
   "execution_count": 25,
   "metadata": {},
   "outputs": [
    {
     "data": {
      "text/plain": [
       "2260414"
      ]
     },
     "execution_count": 25,
     "metadata": {},
     "output_type": "execute_result"
    }
   ],
   "source": [
    "#This uses a regex to find only state names on the 'addr_state' column\n",
    "df_train = df_train.filter(df_train['addr_state'].rlike(r'^[A-Z]{2}?'))\n",
    "#we can check that those few rows have been removed\n",
    "df_train.count()\n"
   ]
  },
  {
   "cell_type": "markdown",
   "metadata": {},
   "source": [
    "Looks like we lost about 200 rows but that's out of over two million"
   ]
  },
  {
   "cell_type": "code",
   "execution_count": 23,
   "metadata": {},
   "outputs": [
    {
     "name": "stdout",
     "output_type": "stream",
     "text": [
      "+--------------------+------+\n",
      "|          addr_state| count|\n",
      "+--------------------+------+\n",
      "|                  CA|314481|\n",
      "|                  NY|186374|\n",
      "|                  TX|186318|\n",
      "|                  FL|161977|\n",
      "|                  IL| 91152|\n",
      "|                  NJ| 83123|\n",
      "|                  PA| 76930|\n",
      "|                  OH| 75125|\n",
      "|                  GA| 74186|\n",
      "|                  VA| 62944|\n",
      "|                  NC| 62730|\n",
      "|                  MI| 58764|\n",
      "|                  MD| 54000|\n",
      "|                  AZ| 53769|\n",
      "|                  MA| 51773|\n",
      "|                  CO| 48178|\n",
      "|                  WA| 47053|\n",
      "|                  MN| 39513|\n",
      "|                  IN| 37515|\n",
      "|                  MO| 36082|\n",
      "|                  CT| 35782|\n",
      "|                  TN| 35483|\n",
      "|                  NV| 32653|\n",
      "|                  WI| 29873|\n",
      "|                  SC| 28001|\n",
      "|                  AL| 27282|\n",
      "|                  OR| 26788|\n",
      "|                  LA| 25757|\n",
      "|                  KY| 21885|\n",
      "|                  OK| 20691|\n",
      "|                  KS| 19106|\n",
      "|                  AR| 17074|\n",
      "|                  UT| 14990|\n",
      "|                  MS| 12638|\n",
      "|                  NM| 11985|\n",
      "|                  NH| 11140|\n",
      "|                  HI| 10667|\n",
      "|                  RI| 10004|\n",
      "|                  WV|  8350|\n",
      "|                  NE|  7819|\n",
      "|                  DE|  6456|\n",
      "|                  MT|  6298|\n",
      "|                  DC|  5355|\n",
      "|                  AK|  5229|\n",
      "|                  ME|  4973|\n",
      "|                  VT|  4937|\n",
      "|                  WY|  4747|\n",
      "|                  SD|  4549|\n",
      "|                  ID|  4308|\n",
      "|                  ND|  3591|\n",
      "|                  IA|    14|\n",
      "|RE Investment Pro...|     1|\n",
      "|             CBR1000|     1|\n",
      "+--------------------+------+\n",
      "\n"
     ]
    }
   ],
   "source": [
    "df_train.groupBy('addr_state').count().orderBy('count', ascending=False).show(66)"
   ]
  },
  {
   "cell_type": "code",
   "execution_count": 36,
   "metadata": {},
   "outputs": [],
   "source": [
    "#Find Outliers\n",
    "\n",
    "def outliers(df):\n",
    "    bnds = {}\n",
    "    cols = ['loan_amnt', 'int_rate', 'tot_cur_bal', 'total_pmnt', 'fico_range_low']\n",
    "\n",
    "    for col in cols:\n",
    "        quantiles = df.approxQuantile(col, [0.25, 0.75], 0.05)\n",
    "        IQR = quantiles[1] - quantiles[0]\n",
    "\n",
    "        bnds[col] = [\n",
    "         quantiles[0] - 1.5 * IQR,\n",
    "         quantiles[1] + 1.5 * IQR\n",
    "        ]\n",
    "    return bnds"
   ]
  },
  {
   "cell_type": "code",
   "execution_count": null,
   "metadata": {},
   "outputs": [],
   "source": []
  }
 ],
 "metadata": {
  "kernelspec": {
   "display_name": "DS 5559",
   "language": "python",
   "name": "ds5559"
  },
  "language_info": {
   "codemirror_mode": {
    "name": "ipython",
    "version": 3
   },
   "file_extension": ".py",
   "mimetype": "text/x-python",
   "name": "python",
   "nbconvert_exporter": "python",
   "pygments_lexer": "ipython3",
   "version": "3.7.3"
  }
 },
 "nbformat": 4,
 "nbformat_minor": 2
}
