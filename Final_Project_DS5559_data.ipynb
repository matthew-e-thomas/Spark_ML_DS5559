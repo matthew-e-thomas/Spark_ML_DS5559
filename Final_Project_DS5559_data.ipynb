{
 "cells": [
  {
   "cell_type": "code",
   "execution_count": 1,
   "metadata": {},
   "outputs": [],
   "source": [
    "from pyspark.sql import SparkSession\n",
    "spark = SparkSession.builder.getOrCreate()\n",
    "sc = spark.sparkContext"
   ]
  },
  {
   "cell_type": "code",
   "execution_count": 2,
   "metadata": {},
   "outputs": [],
   "source": [
    "import pyspark.sql.functions as F"
   ]
  },
  {
   "cell_type": "code",
   "execution_count": 3,
   "metadata": {},
   "outputs": [
    {
     "name": "stdout",
     "output_type": "stream",
     "text": [
      "root\n",
      " |-- id: string (nullable = true)\n",
      " |-- member_id: string (nullable = true)\n",
      " |-- loan_amnt: double (nullable = true)\n",
      " |-- funded_amnt: double (nullable = true)\n",
      " |-- funded_amnt_inv: double (nullable = true)\n",
      " |-- term: string (nullable = true)\n",
      " |-- int_rate: double (nullable = true)\n",
      " |-- installment: double (nullable = true)\n",
      " |-- grade: string (nullable = true)\n",
      " |-- sub_grade: string (nullable = true)\n",
      " |-- emp_title: string (nullable = true)\n",
      " |-- emp_length: string (nullable = true)\n",
      " |-- home_ownership: string (nullable = true)\n",
      " |-- annual_inc: string (nullable = true)\n",
      " |-- verification_status: string (nullable = true)\n",
      " |-- issue_d: string (nullable = true)\n",
      " |-- loan_status: string (nullable = true)\n",
      " |-- pymnt_plan: string (nullable = true)\n",
      " |-- url: string (nullable = true)\n",
      " |-- desc: string (nullable = true)\n",
      " |-- purpose: string (nullable = true)\n",
      " |-- title: string (nullable = true)\n",
      " |-- zip_code: string (nullable = true)\n",
      " |-- addr_state: string (nullable = true)\n",
      " |-- dti: string (nullable = true)\n",
      " |-- delinq_2yrs: string (nullable = true)\n",
      " |-- earliest_cr_line: string (nullable = true)\n",
      " |-- fico_range_low: string (nullable = true)\n",
      " |-- fico_range_high: string (nullable = true)\n",
      " |-- inq_last_6mths: string (nullable = true)\n",
      " |-- mths_since_last_delinq: string (nullable = true)\n",
      " |-- mths_since_last_record: string (nullable = true)\n",
      " |-- open_acc: string (nullable = true)\n",
      " |-- pub_rec: string (nullable = true)\n",
      " |-- revol_bal: string (nullable = true)\n",
      " |-- revol_util: string (nullable = true)\n",
      " |-- total_acc: string (nullable = true)\n",
      " |-- initial_list_status: string (nullable = true)\n",
      " |-- out_prncp: string (nullable = true)\n",
      " |-- out_prncp_inv: string (nullable = true)\n",
      " |-- total_pymnt: string (nullable = true)\n",
      " |-- total_pymnt_inv: string (nullable = true)\n",
      " |-- total_rec_prncp: string (nullable = true)\n",
      " |-- total_rec_int: string (nullable = true)\n",
      " |-- total_rec_late_fee: string (nullable = true)\n",
      " |-- recoveries: string (nullable = true)\n",
      " |-- collection_recovery_fee: string (nullable = true)\n",
      " |-- last_pymnt_d: string (nullable = true)\n",
      " |-- last_pymnt_amnt: string (nullable = true)\n",
      " |-- next_pymnt_d: string (nullable = true)\n",
      " |-- last_credit_pull_d: string (nullable = true)\n",
      " |-- last_fico_range_high: string (nullable = true)\n",
      " |-- last_fico_range_low: string (nullable = true)\n",
      " |-- collections_12_mths_ex_med: string (nullable = true)\n",
      " |-- mths_since_last_major_derog: string (nullable = true)\n",
      " |-- policy_code: string (nullable = true)\n",
      " |-- application_type: string (nullable = true)\n",
      " |-- annual_inc_joint: string (nullable = true)\n",
      " |-- dti_joint: string (nullable = true)\n",
      " |-- verification_status_joint: string (nullable = true)\n",
      " |-- acc_now_delinq: string (nullable = true)\n",
      " |-- tot_coll_amt: string (nullable = true)\n",
      " |-- tot_cur_bal: string (nullable = true)\n",
      " |-- open_acc_6m: string (nullable = true)\n",
      " |-- open_act_il: string (nullable = true)\n",
      " |-- open_il_12m: string (nullable = true)\n",
      " |-- open_il_24m: string (nullable = true)\n",
      " |-- mths_since_rcnt_il: string (nullable = true)\n",
      " |-- total_bal_il: string (nullable = true)\n",
      " |-- il_util: string (nullable = true)\n",
      " |-- open_rv_12m: string (nullable = true)\n",
      " |-- open_rv_24m: string (nullable = true)\n",
      " |-- max_bal_bc: string (nullable = true)\n",
      " |-- all_util: string (nullable = true)\n",
      " |-- total_rev_hi_lim: string (nullable = true)\n",
      " |-- inq_fi: string (nullable = true)\n",
      " |-- total_cu_tl: string (nullable = true)\n",
      " |-- inq_last_12m: double (nullable = true)\n",
      " |-- acc_open_past_24mths: double (nullable = true)\n",
      " |-- avg_cur_bal: string (nullable = true)\n",
      " |-- bc_open_to_buy: double (nullable = true)\n",
      " |-- bc_util: string (nullable = true)\n",
      " |-- chargeoff_within_12_mths: double (nullable = true)\n",
      " |-- delinq_amnt: double (nullable = true)\n",
      " |-- mo_sin_old_il_acct: double (nullable = true)\n",
      " |-- mo_sin_old_rev_tl_op: double (nullable = true)\n",
      " |-- mo_sin_rcnt_rev_tl_op: double (nullable = true)\n",
      " |-- mo_sin_rcnt_tl: double (nullable = true)\n",
      " |-- mort_acc: double (nullable = true)\n",
      " |-- mths_since_recent_bc: double (nullable = true)\n",
      " |-- mths_since_recent_bc_dlq: double (nullable = true)\n",
      " |-- mths_since_recent_inq: double (nullable = true)\n",
      " |-- mths_since_recent_revol_delinq: double (nullable = true)\n",
      " |-- num_accts_ever_120_pd: double (nullable = true)\n",
      " |-- num_actv_bc_tl: double (nullable = true)\n",
      " |-- num_actv_rev_tl: double (nullable = true)\n",
      " |-- num_bc_sats: double (nullable = true)\n",
      " |-- num_bc_tl: double (nullable = true)\n",
      " |-- num_il_tl: double (nullable = true)\n",
      " |-- num_op_rev_tl: double (nullable = true)\n",
      " |-- num_rev_accts: double (nullable = true)\n",
      " |-- num_rev_tl_bal_gt_0: double (nullable = true)\n",
      " |-- num_sats: double (nullable = true)\n",
      " |-- num_tl_120dpd_2m: double (nullable = true)\n",
      " |-- num_tl_30dpd: double (nullable = true)\n",
      " |-- num_tl_90g_dpd_24m: double (nullable = true)\n",
      " |-- num_tl_op_past_12m: double (nullable = true)\n",
      " |-- pct_tl_nvr_dlq: double (nullable = true)\n",
      " |-- percent_bc_gt_75: double (nullable = true)\n",
      " |-- pub_rec_bankruptcies: double (nullable = true)\n",
      " |-- tax_liens: double (nullable = true)\n",
      " |-- tot_hi_cred_lim: double (nullable = true)\n",
      " |-- total_bal_ex_mort: double (nullable = true)\n",
      " |-- total_bc_limit: double (nullable = true)\n",
      " |-- total_il_high_credit_limit: double (nullable = true)\n",
      " |-- revol_bal_joint: double (nullable = true)\n",
      " |-- sec_app_fico_range_low: double (nullable = true)\n",
      " |-- sec_app_fico_range_high: double (nullable = true)\n",
      " |-- sec_app_earliest_cr_line: string (nullable = true)\n",
      " |-- sec_app_inq_last_6mths: double (nullable = true)\n",
      " |-- sec_app_mort_acc: double (nullable = true)\n",
      " |-- sec_app_open_acc: double (nullable = true)\n",
      " |-- sec_app_revol_util: double (nullable = true)\n",
      " |-- sec_app_open_act_il: double (nullable = true)\n",
      " |-- sec_app_num_rev_accts: double (nullable = true)\n",
      " |-- sec_app_chargeoff_within_12_mths: double (nullable = true)\n",
      " |-- sec_app_collections_12_mths_ex_med: double (nullable = true)\n",
      " |-- sec_app_mths_since_last_major_derog: double (nullable = true)\n",
      " |-- hardship_flag: string (nullable = true)\n",
      " |-- hardship_type: string (nullable = true)\n",
      " |-- hardship_reason: string (nullable = true)\n",
      " |-- hardship_status: string (nullable = true)\n",
      " |-- deferral_term: string (nullable = true)\n",
      " |-- hardship_amount: string (nullable = true)\n",
      " |-- hardship_start_date: string (nullable = true)\n",
      " |-- hardship_end_date: string (nullable = true)\n",
      " |-- payment_plan_start_date: string (nullable = true)\n",
      " |-- hardship_length: string (nullable = true)\n",
      " |-- hardship_dpd: string (nullable = true)\n",
      " |-- hardship_loan_status: string (nullable = true)\n",
      " |-- orig_projected_additional_accrued_interest: string (nullable = true)\n",
      " |-- hardship_payoff_balance_amount: string (nullable = true)\n",
      " |-- hardship_last_payment_amount: string (nullable = true)\n",
      " |-- disbursement_method: string (nullable = true)\n",
      " |-- debt_settlement_flag: string (nullable = true)\n",
      " |-- debt_settlement_flag_date: string (nullable = true)\n",
      " |-- settlement_status: string (nullable = true)\n",
      " |-- settlement_date: string (nullable = true)\n",
      " |-- settlement_amount: string (nullable = true)\n",
      " |-- settlement_percentage: string (nullable = true)\n",
      " |-- settlement_term: string (nullable = true)\n",
      "\n"
     ]
    }
   ],
   "source": [
    "lending = spark.read.csv('accepted_2007_to_2018Q4.csv.gz', inferSchema=True, header=True)\n",
    "lending.printSchema()"
   ]
  },
  {
   "cell_type": "markdown",
   "metadata": {},
   "source": [
    "## Decide on categories for features\n",
    "loan_amnt, funded_amnt, term, int_rate, grade, emp_length, home_ownership, annual_inc, addr_state?, fico_range_low (there's no point in using both FICO fields, they are close together and highly correlated), what else??"
   ]
  },
  {
   "cell_type": "code",

   "execution_count": 5,
    
   "execution_count": 13,

   "metadata": {},
   "outputs": [
    {
     "name": "stdout",
     "output_type": "stream",
     "text": [
      "+---------------------------------------------------+\n",
      "|loan_status                                        |\n",
      "+---------------------------------------------------+\n",
      "|Fully Paid                                         |\n",
      "|Default                                            |\n",
      "|null                                               |\n",
      "|In Grace Period                                    |\n",
      "|Does not meet the credit policy. Status:Fully Paid |\n",
      "|Charged Off                                        |\n",
      "|Oct-2015                                           |\n",
      "|Late (31-120 days)                                 |\n",
      "|Current                                            |\n",
      "|Does not meet the credit policy. Status:Charged Off|\n",
      "|Late (16-30 days)                                  |\n",
      "+---------------------------------------------------+\n",
      "\n"
     ]
    }
   ],
   "source": [
    "lending.select('loan_status').distinct().show(20, False) #shows different loan statuses\n",
    "#modified to show full status."
   ]
  },
  {
   "cell_type": "markdown",
   "metadata": {},
   "source": [
    "Response variable is loan_status. We'll need to change to a binary with 'Default', 'Charged Off', and 'Does not meet the credit policy. Status:Charged Off' can be 1 for default and the others can be 0 for not defaulted. Null rows will need to be deleted."
   ]
  },
  {
   "cell_type": "code",

   "execution_count": 4,
=======
   "execution_count": 26,
   "metadata": {},
   "outputs": [
    {
     "name": "stdout",
     "output_type": "stream",
     "text": [
      "+---------------------------------------------------+-------+---------------------+\n",
      "|loan_status                                        |count  |percentage           |\n",
      "+---------------------------------------------------+-------+---------------------+\n",
      "|Fully Paid                                         |1076751|47.629076114001805   |\n",
      "|Default                                            |40     |0.0017693626888297036|\n",
      "|null                                               |33     |0.0014597242182845054|\n",
      "|In Grace Period                                    |8436   |0.37315859107418453  |\n",
      "|Does not meet the credit policy. Status:Fully Paid |1988   |0.08793732563483626  |\n",
      "|Charged Off                                        |268558 |11.87941262466819    |\n",
      "|Oct-2015                                           |1      |4.4234067220742594E-5|\n",
      "|Late (31-120 days)                                 |21467  |0.9495727210276812   |\n",
      "|Current                                            |878317 |38.851533219120974   |\n",
      "|Does not meet the credit policy. Status:Charged Off|761    |0.033662125154985116 |\n",
      "|Late (16-30 days)                                  |4349   |0.19237395834300952  |\n",
      "+---------------------------------------------------+-------+---------------------+\n",
      "\n"
     ]
    }
   ],
   "source": [
    "# Show counts of each loan status.. and percentage\n",
    "#\n",
    "from pyspark.sql.functions import avg, round\n",
    "lending_status = lending.select('loan_status')\n",
    "total_rec = lending.count()\n",
    "lending_stat_grp = lending_status.groupBy('loan_status').count()\n",
    "lending_stat_grp = lending_stat_grp.withColumn('percentage', lending_stat_grp['count']/total_rec * 100)\n",
    "#c = 'percentage'\n",
    "lending_stat_grp.show(20,False) # I need to round this column but haven't figured that out yet also the 20\n",
    "\n"
   ]
  },
  {
   "cell_type": "code",
   "execution_count": 36,
   "metadata": {},
   "outputs": [],
   "source": [
    "import matplotlib.pyplot as plt\n",
    "import seaborn as sns\n",
    "from scipy import stats\n",
    "%matplotlib inline"
   ]
  },
  {
   "cell_type": "code",
   "execution_count": 34,
   "metadata": {},
   "outputs": [],
   "source": [
    "statuses = lending_stat_grp.select(\"loan_status\").rdd.flatMap(lambda x: x).collect()\n",
    "statuses[2]=\"None\" # since Plotting doesn't like None\n",
    "status_counts =  lending_stat_grp.select(\"count\").rdd.flatMap(lambda x: x).collect()\n",
    "#not sure why this takes forever"
   ]
  },
  {
   "cell_type": "code",
   "execution_count": 47,
   "metadata": {},
   "outputs": [
    {
     "data": {
      "image/png": "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\n",
      "text/plain": [
       "<Figure size 2880x576 with 1 Axes>"
      ]
     },
     "metadata": {
      "needs_background": "light"
     },
     "output_type": "display_data"
    }
   ],
   "source": [
    "# Plotting Response Variable\n",
    "plt.figure(figsize=(40,8))\n",
    "plt.bar(statuses, status_counts, width=0.8, label='Loan Status', color='blue')\n",
    "#plt.xticks(ind, labels)\n",
    "plt.ylabel(\"Number of Loans\")\n",
    "plt.show()\n",
    "#we can see the majority of our data set is current and fully paid. With Charged off being the 3rd largest"
   ]
  },
  {
   "cell_type": "code",
   "execution_count": 51,
   "metadata": {},
   "outputs": [],
   "source": [
    "#making loan status binary 1: Default 0: Current\n",
    "lending = lending.withColumn('loan_status_binary', F.when( (lending['loan_status'] == 'Default') | \\\n",
    "                                            (lending['loan_status'] == 'Charged Off') | \\\n",
    "                                            (lending['loan_status'] == 'Charged off and Does not meet the credit policy.'),1).otherwise(0))\n"
   ]
  },
  {
   "cell_type": "code",
   "execution_count": 52,
   "metadata": {},
   "outputs": [
    {
     "name": "stdout",
     "output_type": "stream",
     "text": [
      "+----+-------+\n",
      "|test|  count|\n",
      "+----+-------+\n",
      "|   1| 268598|\n",
      "|   0|1992103|\n",
      "+----+-------+\n",
      "\n"
     ]
    }
   ],
   "source": [
    "lending.groupBy('loan_status_binary').count().show()"
   ]
  },
  {
   "cell_type": "code",
   "execution_count": null,

   "metadata": {},
   "outputs": [],
   "source": [
    "df_train = lending.select('loan_amnt', 'term', 'int_rate', 'grade', 'emp_length',\n",
    "                          'home_ownership', 'tot_cur_bal', 'total_pymnt', 'annual_inc', 'addr_state', 'fico_range_low')"
   ]
  },
  {
   "cell_type": "code",
   "execution_count": 5,
   "metadata": {},
   "outputs": [
    {
     "data": {
      "text/plain": [
       "[Row(loan_amnt=3600.0, term=' 36 months', int_rate=13.99, grade='C', emp_length='10+ years', home_ownership='MORTGAGE', tot_cur_bal='144904.0', total_pymnt='4421.723916800001', annual_inc='55000.0', addr_state='PA', fico_range_low='675.0'),\n",
       " Row(loan_amnt=24700.0, term=' 36 months', int_rate=11.99, grade='C', emp_length='10+ years', home_ownership='MORTGAGE', tot_cur_bal='204396.0', total_pymnt='25679.66', annual_inc='65000.0', addr_state='SD', fico_range_low='715.0'),\n",
       " Row(loan_amnt=20000.0, term=' 60 months', int_rate=10.78, grade='B', emp_length='10+ years', home_ownership='MORTGAGE', tot_cur_bal='189699.0', total_pymnt='22705.924293878397', annual_inc='63000.0', addr_state='IL', fico_range_low='695.0')]"
      ]
     },
     "execution_count": 5,
     "metadata": {},
     "output_type": "execute_result"
    }
   ],
   "source": [
    "df_train.take(3)"
   ]
  },
  {
   "cell_type": "code",
   "execution_count": 6,
   "metadata": {},
   "outputs": [
    {
     "data": {
      "text/plain": [
       "DataFrame[loan_amnt: double, term: string, int_rate: double, grade: string, emp_length: string, home_ownership: string, tot_cur_bal: string, total_pymnt: string, annual_inc: string, addr_state: string, fico_range_low: string]"
      ]
     },
     "execution_count": 6,
     "metadata": {},
     "output_type": "execute_result"
    }
   ],
   "source": [
    "df_train.cache()"
   ]
  },
  {
   "cell_type": "code",
   "execution_count": 7,
   "metadata": {},
   "outputs": [
    {
     "name": "stdout",
     "output_type": "stream",
     "text": [
      "+----------+\n",
      "|      term|\n",
      "+----------+\n",
      "| 36 months|\n",
      "|      null|\n",
      "| 60 months|\n",
      "+----------+\n",
      "\n"
     ]
    }
   ],
   "source": [
    "#Find different term levels\n",
    "df_train.select('term').distinct().show()"
   ]
  },
  {
   "cell_type": "code",
   "execution_count": 12,
   "metadata": {},
   "outputs": [
    {
     "name": "stdout",
     "output_type": "stream",
     "text": [
      "+--------------------+--------------------+--------------------+--------------------+-------------------+--------------------+--------------------+--------------------+--------------------+--------------------+--------------------+\n",
      "|      loan_amnt_miss|           term_miss|       int_rate_miss|          grade_miss|    emp_length_miss| home_ownership_miss|    tot_cur_bal_miss|    total_pymnt_miss|     annual_inc_miss|     addr_state_miss| fico_range_low_miss|\n",
      "+--------------------+--------------------+--------------------+--------------------+-------------------+--------------------+--------------------+--------------------+--------------------+--------------------+--------------------+\n",
      "|1.459724218288993...|1.459724218288993...|1.459724218288993...|1.459724218288993...|0.06499753837415911|1.459724218288993...|0.031054084551650152|2.034767092151668E-5|1.636660487169816...|1.503958285509199...|1.503958285509199...|\n",
      "+--------------------+--------------------+--------------------+--------------------+-------------------+--------------------+--------------------+--------------------+--------------------+--------------------+--------------------+\n",
      "\n"
     ]
    }
   ],
   "source": [
    "# for each field, compute missing percentage\n",
    "\n",
    "df_train.agg(*[\n",
    "    (1 - F.count(c) / F.count('*')).alias(c + '_miss')\n",
    "    for c in df_train.columns\n",
    "]).show()"
   ]
  },
  {
   "cell_type": "code",
   "execution_count": 21,
   "metadata": {},
   "outputs": [
    {
     "name": "stdout",
     "output_type": "stream",
     "text": [
      "root\n",
      " |-- loan_amnt: double (nullable = true)\n",
      " |-- term: string (nullable = true)\n",
      " |-- int_rate: double (nullable = true)\n",
      " |-- grade: string (nullable = true)\n",
      " |-- emp_length: string (nullable = true)\n",
      " |-- home_ownership: string (nullable = true)\n",
      " |-- tot_cur_bal: float (nullable = true)\n",
      " |-- total_pymnt: float (nullable = true)\n",
      " |-- annual_inc: string (nullable = true)\n",
      " |-- addr_state: string (nullable = true)\n",
      " |-- fico_range_low: float (nullable = true)\n",
      "\n"
     ]
    }
   ],
   "source": [
    "df_train.printSchema()"
   ]
  },
  {
   "cell_type": "code",
   "execution_count": 11,
   "metadata": {},
   "outputs": [
    {
     "name": "stdout",
     "output_type": "stream",
     "text": [
      "rows=2260701\n"
     ]
    }
   ],
   "source": [
    "# row count\n",
    "print(f'rows={df_train.count()}')"
   ]
  },
  {
   "cell_type": "code",
   "execution_count": 12,
   "metadata": {},
   "outputs": [
    {
     "name": "stdout",
     "output_type": "stream",
     "text": [
      "rows=2259027\n"
     ]
    }
   ],
   "source": [
    "# distinct row count\n",
    "print(f'rows={df_train.distinct().count()}')"
   ]
  },
  {
   "cell_type": "code",
   "execution_count": 8,
   "metadata": {},
   "outputs": [
    {
     "name": "stdout",
     "output_type": "stream",
     "text": [
      "rows=2260669\n"
     ]
    }
   ],
   "source": [
    "#Looks like there are duplicates so we will drop those\n",
    "df_train = df_train.dropDuplicates()\n",
    "print(f'rows={df_train.count()}')"
   ]
  },
  {
   "cell_type": "code",
   "execution_count": 9,
   "metadata": {},
   "outputs": [],
   "source": [
    "#Convert these columns since they are numbers but cast as strings in original data\n",
    "df_train = df_train.withColumn(\"tot_cur_bal\", df_train['tot_cur_bal'].cast('float'))\n",
    "df_train = df_train.withColumn(\"total_pymnt\", df_train[\"total_pymnt\"].cast('float'))\n",
    "df_train = df_train.withColumn(\"fico_range_low\", df_train[\"fico_range_low\"].cast('float'))"
   ]
  },
  {
   "cell_type": "code",
   "execution_count": 10,
   "metadata": {},
   "outputs": [
    {
     "name": "stdout",
     "output_type": "stream",
     "text": [
      "+-------+------------------+------------------+------------------+------------------+\n",
      "|summary|         loan_amnt|          int_rate|       tot_cur_bal|       total_pymnt|\n",
      "+-------+------------------+------------------+------------------+------------------+\n",
      "|  count|           2260668|           2260668|           2190484|           2260607|\n",
      "|   mean|15046.931227849467|13.092829115111373|  142486.039012547|12081.553566208604|\n",
      "| stddev| 9190.245488232784| 4.832138364571108|160691.95987801175| 9901.812291187154|\n",
      "|    min|             500.0|              5.31|               0.0|               0.0|\n",
      "|    max|           40000.0|             30.99|         9971659.0|          63296.88|\n",
      "+-------+------------------+------------------+------------------+------------------+\n",
      "\n"
     ]
    }
   ],
   "source": [
    "#Descriptive stats on numerical columns\n",
    "df_train.describe('loan_amnt', 'int_rate', 'tot_cur_bal', 'total_pymnt').show()"
   ]
  },
  {
   "cell_type": "code",
   "execution_count": 14,
   "metadata": {},
   "outputs": [
    {
     "name": "stdout",
     "output_type": "stream",
     "text": [
      "+------------------+------+\n",
      "|        addr_state| count|\n",
      "+------------------+------+\n",
      "|                CA|313835|\n",
      "|                TX|186145|\n",
      "|                NY|186137|\n",
      "|                FL|161833|\n",
      "|                IL| 91093|\n",
      "|                NJ| 83063|\n",
      "|                PA| 76893|\n",
      "|                OH| 75085|\n",
      "|                GA| 74159|\n",
      "|                VA| 62931|\n",
      "|                NC| 62708|\n",
      "|                MI| 58740|\n",
      "|                MD| 53985|\n",
      "|                AZ| 53752|\n",
      "|                MA| 51754|\n",
      "|                CO| 48170|\n",
      "|                WA| 47043|\n",
      "|                MN| 39503|\n",
      "|                IN| 37505|\n",
      "|                MO| 36076|\n",
      "|                CT| 35773|\n",
      "|                TN| 35482|\n",
      "|                NV| 32640|\n",
      "|                WI| 29869|\n",
      "|                SC| 27996|\n",
      "|                AL| 27282|\n",
      "|                OR| 26786|\n",
      "|                LA| 25750|\n",
      "|                KY| 21875|\n",
      "|                OK| 20691|\n",
      "|                KS| 19104|\n",
      "|                AR| 17074|\n",
      "|                UT| 14990|\n",
      "|                MS| 12633|\n",
      "|                NM| 11984|\n",
      "|                NH| 11140|\n",
      "|                HI| 10665|\n",
      "|                RI| 10003|\n",
      "|                WV|  8349|\n",
      "|                NE|  7818|\n",
      "|                DE|  6456|\n",
      "|                MT|  6298|\n",
      "|                DC|  5355|\n",
      "|                AK|  5229|\n",
      "|                ME|  4972|\n",
      "|                VT|  4937|\n",
      "|                WY|  4747|\n",
      "|                SD|  4549|\n",
      "|                ID|  4308|\n",
      "|                ND|  3591|\n",
      "|                IA|    14|\n",
      "|debt_consolidation|    13|\n",
      "|       credit_card|    10|\n",
      "|             other|     5|\n",
      "|    major_purchase|     5|\n",
      "|             941xx|     2|\n",
      "+------------------+------+\n",
      "only showing top 56 rows\n",
      "\n"
     ]
    }
   ],
   "source": [
    "df_train.groupBy('addr_state').count().orderBy('count', ascending=False).show(56)\n"
   ]
  },
  {
   "cell_type": "markdown",
   "metadata": {},
   "source": [
    "It looks like there are some categories that aren't actually states, we'll need to get rid of those"
   ]
  },
  {
   "cell_type": "code",
   "execution_count": 25,
   "metadata": {},
   "outputs": [
    {
     "data": {
      "text/plain": [
       "2260414"
      ]
     },
     "execution_count": 25,
     "metadata": {},
     "output_type": "execute_result"
    }
   ],
   "source": [
    "#This uses a regex to find only state names on the 'addr_state' column\n",
    "df_train = df_train.filter(df_train['addr_state'].rlike(r'^[A-Z]{2}?'))\n",
    "#we can check that those few rows have been removed\n",
    "df_train.count()\n"
   ]
  },
  {
   "cell_type": "markdown",
   "metadata": {},
   "source": [
    "Looks like we lost about 200 rows but that's out of over two million"
   ]
  },
  {
   "cell_type": "code",
   "execution_count": 23,
   "metadata": {},
   "outputs": [
    {
     "name": "stdout",
     "output_type": "stream",
     "text": [
      "+--------------------+------+\n",
      "|          addr_state| count|\n",
      "+--------------------+------+\n",
      "|                  CA|314481|\n",
      "|                  NY|186374|\n",
      "|                  TX|186318|\n",
      "|                  FL|161977|\n",
      "|                  IL| 91152|\n",
      "|                  NJ| 83123|\n",
      "|                  PA| 76930|\n",
      "|                  OH| 75125|\n",
      "|                  GA| 74186|\n",
      "|                  VA| 62944|\n",
      "|                  NC| 62730|\n",
      "|                  MI| 58764|\n",
      "|                  MD| 54000|\n",
      "|                  AZ| 53769|\n",
      "|                  MA| 51773|\n",
      "|                  CO| 48178|\n",
      "|                  WA| 47053|\n",
      "|                  MN| 39513|\n",
      "|                  IN| 37515|\n",
      "|                  MO| 36082|\n",
      "|                  CT| 35782|\n",
      "|                  TN| 35483|\n",
      "|                  NV| 32653|\n",
      "|                  WI| 29873|\n",
      "|                  SC| 28001|\n",
      "|                  AL| 27282|\n",
      "|                  OR| 26788|\n",
      "|                  LA| 25757|\n",
      "|                  KY| 21885|\n",
      "|                  OK| 20691|\n",
      "|                  KS| 19106|\n",
      "|                  AR| 17074|\n",
      "|                  UT| 14990|\n",
      "|                  MS| 12638|\n",
      "|                  NM| 11985|\n",
      "|                  NH| 11140|\n",
      "|                  HI| 10667|\n",
      "|                  RI| 10004|\n",
      "|                  WV|  8350|\n",
      "|                  NE|  7819|\n",
      "|                  DE|  6456|\n",
      "|                  MT|  6298|\n",
      "|                  DC|  5355|\n",
      "|                  AK|  5229|\n",
      "|                  ME|  4973|\n",
      "|                  VT|  4937|\n",
      "|                  WY|  4747|\n",
      "|                  SD|  4549|\n",
      "|                  ID|  4308|\n",
      "|                  ND|  3591|\n",
      "|                  IA|    14|\n",
      "|RE Investment Pro...|     1|\n",
      "|             CBR1000|     1|\n",
      "+--------------------+------+\n",
      "\n"
     ]
    }
   ],
   "source": [
    "df_train.groupBy('addr_state').count().orderBy('count', ascending=False).show(66)"
   ]
  },
  {
   "cell_type": "code",
   "execution_count": 36,
   "metadata": {},
   "outputs": [],
   "source": [
    "#Find Outliers\n",
    "\n",
    "def outliers(df):\n",
    "    bnds = {}\n",
    "    cols = ['loan_amnt', 'int_rate', 'tot_cur_bal', 'total_pmnt', 'fico_range_low']\n",
    "\n",
    "    for col in cols:\n",
    "        quantiles = df.approxQuantile(col, [0.25, 0.75], 0.05)\n",
    "        IQR = quantiles[1] - quantiles[0]\n",
    "\n",
    "        bnds[col] = [\n",
    "         quantiles[0] - 1.5 * IQR,\n",
    "         quantiles[1] + 1.5 * IQR\n",
    "        ]\n",
    "    return bnds"
   ]
  },
  {
   "cell_type": "code",
   "execution_count": null,
   "metadata": {},
   "outputs": [],
   "source": []
  }
 ],
 "metadata": {
  "kernelspec": {
   "display_name": "DS 5559",
   "language": "python",
   "name": "ds5559"
  },
  "language_info": {
   "codemirror_mode": {
    "name": "ipython",
    "version": 3
   },
   "file_extension": ".py",
   "mimetype": "text/x-python",
   "name": "python",
   "nbconvert_exporter": "python",
   "pygments_lexer": "ipython3",
   "version": "3.7.3"
  }
 },
 "nbformat": 4,
 "nbformat_minor": 2
}
