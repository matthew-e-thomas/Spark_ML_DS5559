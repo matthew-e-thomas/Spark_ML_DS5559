{
 "cells": [
  {
   "cell_type": "code",
   "execution_count": 47,
   "metadata": {},
   "outputs": [],
   "source": [
    "from pyspark.sql import SparkSession\n",
    "spark = SparkSession.builder.getOrCreate()\n",
    "sc = spark.sparkContext\n",
    "import pandas as pd"
   ]
  },
  {
   "cell_type": "code",
   "execution_count": 2,
   "metadata": {},
   "outputs": [],
   "source": [
    "import pyspark.sql.functions as F"
   ]
  },
  {
   "cell_type": "code",
   "execution_count": 3,
   "metadata": {},
   "outputs": [
    {
     "name": "stdout",
     "output_type": "stream",
     "text": [
      "root\n",
      " |-- id: string (nullable = true)\n",
      " |-- member_id: string (nullable = true)\n",
      " |-- loan_amnt: double (nullable = true)\n",
      " |-- funded_amnt: double (nullable = true)\n",
      " |-- funded_amnt_inv: double (nullable = true)\n",
      " |-- term: string (nullable = true)\n",
      " |-- int_rate: double (nullable = true)\n",
      " |-- installment: double (nullable = true)\n",
      " |-- grade: string (nullable = true)\n",
      " |-- sub_grade: string (nullable = true)\n",
      " |-- emp_title: string (nullable = true)\n",
      " |-- emp_length: string (nullable = true)\n",
      " |-- home_ownership: string (nullable = true)\n",
      " |-- annual_inc: string (nullable = true)\n",
      " |-- verification_status: string (nullable = true)\n",
      " |-- issue_d: string (nullable = true)\n",
      " |-- loan_status: string (nullable = true)\n",
      " |-- pymnt_plan: string (nullable = true)\n",
      " |-- url: string (nullable = true)\n",
      " |-- desc: string (nullable = true)\n",
      " |-- purpose: string (nullable = true)\n",
      " |-- title: string (nullable = true)\n",
      " |-- zip_code: string (nullable = true)\n",
      " |-- addr_state: string (nullable = true)\n",
      " |-- dti: string (nullable = true)\n",
      " |-- delinq_2yrs: string (nullable = true)\n",
      " |-- earliest_cr_line: string (nullable = true)\n",
      " |-- fico_range_low: string (nullable = true)\n",
      " |-- fico_range_high: string (nullable = true)\n",
      " |-- inq_last_6mths: string (nullable = true)\n",
      " |-- mths_since_last_delinq: string (nullable = true)\n",
      " |-- mths_since_last_record: string (nullable = true)\n",
      " |-- open_acc: string (nullable = true)\n",
      " |-- pub_rec: string (nullable = true)\n",
      " |-- revol_bal: string (nullable = true)\n",
      " |-- revol_util: string (nullable = true)\n",
      " |-- total_acc: string (nullable = true)\n",
      " |-- initial_list_status: string (nullable = true)\n",
      " |-- out_prncp: string (nullable = true)\n",
      " |-- out_prncp_inv: string (nullable = true)\n",
      " |-- total_pymnt: string (nullable = true)\n",
      " |-- total_pymnt_inv: string (nullable = true)\n",
      " |-- total_rec_prncp: string (nullable = true)\n",
      " |-- total_rec_int: string (nullable = true)\n",
      " |-- total_rec_late_fee: string (nullable = true)\n",
      " |-- recoveries: string (nullable = true)\n",
      " |-- collection_recovery_fee: string (nullable = true)\n",
      " |-- last_pymnt_d: string (nullable = true)\n",
      " |-- last_pymnt_amnt: string (nullable = true)\n",
      " |-- next_pymnt_d: string (nullable = true)\n",
      " |-- last_credit_pull_d: string (nullable = true)\n",
      " |-- last_fico_range_high: string (nullable = true)\n",
      " |-- last_fico_range_low: string (nullable = true)\n",
      " |-- collections_12_mths_ex_med: string (nullable = true)\n",
      " |-- mths_since_last_major_derog: string (nullable = true)\n",
      " |-- policy_code: string (nullable = true)\n",
      " |-- application_type: string (nullable = true)\n",
      " |-- annual_inc_joint: string (nullable = true)\n",
      " |-- dti_joint: string (nullable = true)\n",
      " |-- verification_status_joint: string (nullable = true)\n",
      " |-- acc_now_delinq: string (nullable = true)\n",
      " |-- tot_coll_amt: string (nullable = true)\n",
      " |-- tot_cur_bal: string (nullable = true)\n",
      " |-- open_acc_6m: string (nullable = true)\n",
      " |-- open_act_il: string (nullable = true)\n",
      " |-- open_il_12m: string (nullable = true)\n",
      " |-- open_il_24m: string (nullable = true)\n",
      " |-- mths_since_rcnt_il: string (nullable = true)\n",
      " |-- total_bal_il: string (nullable = true)\n",
      " |-- il_util: string (nullable = true)\n",
      " |-- open_rv_12m: string (nullable = true)\n",
      " |-- open_rv_24m: string (nullable = true)\n",
      " |-- max_bal_bc: string (nullable = true)\n",
      " |-- all_util: string (nullable = true)\n",
      " |-- total_rev_hi_lim: string (nullable = true)\n",
      " |-- inq_fi: string (nullable = true)\n",
      " |-- total_cu_tl: string (nullable = true)\n",
      " |-- inq_last_12m: double (nullable = true)\n",
      " |-- acc_open_past_24mths: double (nullable = true)\n",
      " |-- avg_cur_bal: string (nullable = true)\n",
      " |-- bc_open_to_buy: double (nullable = true)\n",
      " |-- bc_util: string (nullable = true)\n",
      " |-- chargeoff_within_12_mths: double (nullable = true)\n",
      " |-- delinq_amnt: double (nullable = true)\n",
      " |-- mo_sin_old_il_acct: double (nullable = true)\n",
      " |-- mo_sin_old_rev_tl_op: double (nullable = true)\n",
      " |-- mo_sin_rcnt_rev_tl_op: double (nullable = true)\n",
      " |-- mo_sin_rcnt_tl: double (nullable = true)\n",
      " |-- mort_acc: double (nullable = true)\n",
      " |-- mths_since_recent_bc: double (nullable = true)\n",
      " |-- mths_since_recent_bc_dlq: double (nullable = true)\n",
      " |-- mths_since_recent_inq: double (nullable = true)\n",
      " |-- mths_since_recent_revol_delinq: double (nullable = true)\n",
      " |-- num_accts_ever_120_pd: double (nullable = true)\n",
      " |-- num_actv_bc_tl: double (nullable = true)\n",
      " |-- num_actv_rev_tl: double (nullable = true)\n",
      " |-- num_bc_sats: double (nullable = true)\n",
      " |-- num_bc_tl: double (nullable = true)\n",
      " |-- num_il_tl: double (nullable = true)\n",
      " |-- num_op_rev_tl: double (nullable = true)\n",
      " |-- num_rev_accts: double (nullable = true)\n",
      " |-- num_rev_tl_bal_gt_0: double (nullable = true)\n",
      " |-- num_sats: double (nullable = true)\n",
      " |-- num_tl_120dpd_2m: double (nullable = true)\n",
      " |-- num_tl_30dpd: double (nullable = true)\n",
      " |-- num_tl_90g_dpd_24m: double (nullable = true)\n",
      " |-- num_tl_op_past_12m: double (nullable = true)\n",
      " |-- pct_tl_nvr_dlq: double (nullable = true)\n",
      " |-- percent_bc_gt_75: double (nullable = true)\n",
      " |-- pub_rec_bankruptcies: double (nullable = true)\n",
      " |-- tax_liens: double (nullable = true)\n",
      " |-- tot_hi_cred_lim: double (nullable = true)\n",
      " |-- total_bal_ex_mort: double (nullable = true)\n",
      " |-- total_bc_limit: double (nullable = true)\n",
      " |-- total_il_high_credit_limit: double (nullable = true)\n",
      " |-- revol_bal_joint: double (nullable = true)\n",
      " |-- sec_app_fico_range_low: double (nullable = true)\n",
      " |-- sec_app_fico_range_high: double (nullable = true)\n",
      " |-- sec_app_earliest_cr_line: string (nullable = true)\n",
      " |-- sec_app_inq_last_6mths: double (nullable = true)\n",
      " |-- sec_app_mort_acc: double (nullable = true)\n",
      " |-- sec_app_open_acc: double (nullable = true)\n",
      " |-- sec_app_revol_util: double (nullable = true)\n",
      " |-- sec_app_open_act_il: double (nullable = true)\n",
      " |-- sec_app_num_rev_accts: double (nullable = true)\n",
      " |-- sec_app_chargeoff_within_12_mths: double (nullable = true)\n",
      " |-- sec_app_collections_12_mths_ex_med: double (nullable = true)\n",
      " |-- sec_app_mths_since_last_major_derog: double (nullable = true)\n",
      " |-- hardship_flag: string (nullable = true)\n",
      " |-- hardship_type: string (nullable = true)\n",
      " |-- hardship_reason: string (nullable = true)\n",
      " |-- hardship_status: string (nullable = true)\n",
      " |-- deferral_term: string (nullable = true)\n",
      " |-- hardship_amount: string (nullable = true)\n",
      " |-- hardship_start_date: string (nullable = true)\n",
      " |-- hardship_end_date: string (nullable = true)\n",
      " |-- payment_plan_start_date: string (nullable = true)\n",
      " |-- hardship_length: string (nullable = true)\n",
      " |-- hardship_dpd: string (nullable = true)\n",
      " |-- hardship_loan_status: string (nullable = true)\n",
      " |-- orig_projected_additional_accrued_interest: string (nullable = true)\n",
      " |-- hardship_payoff_balance_amount: string (nullable = true)\n",
      " |-- hardship_last_payment_amount: string (nullable = true)\n",
      " |-- disbursement_method: string (nullable = true)\n",
      " |-- debt_settlement_flag: string (nullable = true)\n",
      " |-- debt_settlement_flag_date: string (nullable = true)\n",
      " |-- settlement_status: string (nullable = true)\n",
      " |-- settlement_date: string (nullable = true)\n",
      " |-- settlement_amount: string (nullable = true)\n",
      " |-- settlement_percentage: string (nullable = true)\n",
      " |-- settlement_term: string (nullable = true)\n",
      "\n"
     ]
    }
   ],
   "source": [
    "lending = spark.read.csv('accepted_2007_to_2018Q4.csv.gz', inferSchema=True, header=True)\n",
    "lending.printSchema()"
   ]
  },
  {
   "cell_type": "markdown",
   "metadata": {},
   "source": [
    "# Cleaning and Tranforming Data"
   ]
  },
  {
   "cell_type": "markdown",
   "metadata": {},
   "source": [
    "## Decide on categories for features\n"
   ]
  },
  {
   "cell_type": "code",
   "execution_count": 4,
   "metadata": {},
   "outputs": [
    {
     "name": "stdout",
     "output_type": "stream",
     "text": [
      "+---------------------------------------------------+\n",
      "|loan_status                                        |\n",
      "+---------------------------------------------------+\n",
      "|Fully Paid                                         |\n",
      "|Default                                            |\n",
      "|null                                               |\n",
      "|In Grace Period                                    |\n",
      "|Does not meet the credit policy. Status:Fully Paid |\n",
      "|Charged Off                                        |\n",
      "|Oct-2015                                           |\n",
      "|Late (31-120 days)                                 |\n",
      "|Current                                            |\n",
      "|Does not meet the credit policy. Status:Charged Off|\n",
      "|Late (16-30 days)                                  |\n",
      "+---------------------------------------------------+\n",
      "\n"
     ]
    }
   ],
   "source": [
    "lending.select('loan_status').distinct().show(20, False) #shows different loan statuses"
   ]
  },
  {
   "cell_type": "markdown",
   "metadata": {},
   "source": [
    "Response variable is loan_status. Here we look at stats and change the loan status column so that \"Default\", \"Charged Off\", and \"Does not meet the credit policy. Status:Charged Off\" are all 1 (for default) and everything else is 0."
   ]
  },
  {
   "cell_type": "code",
   "execution_count": 10,
   "metadata": {},
   "outputs": [
    {
     "name": "stdout",
     "output_type": "stream",
     "text": [
      "+---------------------------------------------------+-------+----------+\n",
      "|loan_status                                        |count  |percentage|\n",
      "+---------------------------------------------------+-------+----------+\n",
      "|Fully Paid                                         |1076751|47.63     |\n",
      "|Default                                            |40     |0.0       |\n",
      "|null                                               |33     |0.0       |\n",
      "|In Grace Period                                    |8436   |0.37      |\n",
      "|Does not meet the credit policy. Status:Fully Paid |1988   |0.09      |\n",
      "|Charged Off                                        |268558 |11.88     |\n",
      "|Oct-2015                                           |1      |0.0       |\n",
      "|Late (31-120 days)                                 |21467  |0.95      |\n",
      "|Current                                            |878317 |38.85     |\n",
      "|Does not meet the credit policy. Status:Charged Off|761    |0.03      |\n",
      "|Late (16-30 days)                                  |4349   |0.19      |\n",
      "+---------------------------------------------------+-------+----------+\n",
      "\n"
     ]
    }
   ],
   "source": [
    "# Show counts of each loan status.. and percentage\n",
    "\n",
    "lending_status = lending.select('loan_status')\n",
    "total_rec = lending.count()\n",
    "lending_stat_grp = lending_status.groupBy('loan_status').count()\n",
    "lending_stat_grp = lending_stat_grp.withColumn('percentage', \n",
    "                                               F.round(lending_stat_grp['count']/total_rec * 100, 2))\n",
    "#c = 'percentage'\n",
    "lending_stat_grp.show(20,False) # I need to round this column but haven't figured that out yet also the 20\n",
    "\n"
   ]
  },
  {
   "cell_type": "code",
   "execution_count": 11,
   "metadata": {},
   "outputs": [],
   "source": [
    "import matplotlib.pyplot as plt\n",
    "import seaborn as sns\n",
    "from scipy import stats\n",
    "%matplotlib inline"
   ]
  },
  {
   "cell_type": "code",
   "execution_count": 12,
   "metadata": {},
   "outputs": [],
   "source": [
    "statuses = lending_stat_grp.select(\"loan_status\").rdd.flatMap(lambda x: x).collect()\n",
    "statuses[2]=\"None\" # since Plotting doesn't like None\n",
    "status_counts =  lending_stat_grp.select(\"count\").rdd.flatMap(lambda x: x).collect()"
   ]
  },
  {
   "cell_type": "code",
   "execution_count": 13,
   "metadata": {},
   "outputs": [
    {
     "data": {
      "image/png": "[encoded data removed]",
      "text/plain": [
       "<Figure size 2880x864 with 1 Axes>"
      ]
     },
     "metadata": {
      "needs_background": "light"
     },
     "output_type": "display_data"
    }
   ],
   "source": [
    "# Plotting Response Variable\n",
    "plt.figure(figsize=(40,12))\n",
    "plt.bar(statuses, status_counts, width=0.8, label='Loan Status', color='blue')\n",
    "#plt.xticks(ind, labels)\n",
    "plt.ylabel(\"Number of Loans\")\n",
    "plt.show()\n",
    "#we can see the majority of our data set is current and fully paid. With Charged off being the 3rd largest"
   ]
  },
  {
   "cell_type": "code",
   "execution_count": 14,
   "metadata": {},
   "outputs": [],
   "source": [
    "#making loan status binary 1: Default 0: Current\n",
    "lending = lending.withColumn('loan_status_binary', F.when( (lending['loan_status'] == 'Default') | \\\n",
    "                                            (lending['loan_status'] == 'Charged Off') | \\\n",
    "                                            (lending['loan_status'] == 'Charged off and Does not meet the credit policy.'),1).otherwise(0))\n"
   ]
  },
  {
   "cell_type": "code",
   "execution_count": 15,
   "metadata": {},
   "outputs": [
    {
     "name": "stdout",
     "output_type": "stream",
     "text": [
      "+------------------+-------+\n",
      "|loan_status_binary|  count|\n",
      "+------------------+-------+\n",
      "|                 1| 268598|\n",
      "|                 0|1992103|\n",
      "+------------------+-------+\n",
      "\n"
     ]
    }
   ],
   "source": [
    "lending.groupBy('loan_status_binary').count().show()"
   ]
  },
  {
   "cell_type": "code",
   "execution_count": 16,
   "metadata": {},
   "outputs": [],
   "source": [
    "df = lending.select('loan_status_binary','loan_amnt', 'term', 'int_rate', 'grade', 'emp_length',\n",
    "                          'home_ownership', 'tot_cur_bal', 'total_pymnt', 'annual_inc', 'addr_state', \n",
    "                             'fico_range_low', 'last_pymnt_amnt')"
   ]
  },
  {
   "cell_type": "code",
   "execution_count": 17,
   "metadata": {},
   "outputs": [
    {
     "name": "stdout",
     "output_type": "stream",
     "text": [
      "root\n",
      " |-- loan_status_binary: integer (nullable = false)\n",
      " |-- loan_amnt: double (nullable = true)\n",
      " |-- term: string (nullable = true)\n",
      " |-- int_rate: double (nullable = true)\n",
      " |-- grade: string (nullable = true)\n",
      " |-- emp_length: string (nullable = true)\n",
      " |-- home_ownership: string (nullable = true)\n",
      " |-- tot_cur_bal: string (nullable = true)\n",
      " |-- total_pymnt: string (nullable = true)\n",
      " |-- annual_inc: string (nullable = true)\n",
      " |-- addr_state: string (nullable = true)\n",
      " |-- fico_range_low: string (nullable = true)\n",
      " |-- last_pymnt_amnt: string (nullable = true)\n",
      "\n"
     ]
    }
   ],
   "source": [
    "df.printSchema()"
   ]
  },
  {
   "cell_type": "code",
   "execution_count": 18,
   "metadata": {},
   "outputs": [
    {
     "name": "stdout",
     "output_type": "stream",
     "text": [
      "+-----------------------+--------------------+--------------------+--------------------+--------------------+-------------------+--------------------+--------------------+--------------------+--------------------+--------------------+--------------------+--------------------+\n",
      "|loan_status_binary_miss|      loan_amnt_miss|           term_miss|       int_rate_miss|          grade_miss|    emp_length_miss| home_ownership_miss|    tot_cur_bal_miss|    total_pymnt_miss|     annual_inc_miss|     addr_state_miss| fico_range_low_miss|last_pymnt_amnt_miss|\n",
      "+-----------------------+--------------------+--------------------+--------------------+--------------------+-------------------+--------------------+--------------------+--------------------+--------------------+--------------------+--------------------+--------------------+\n",
      "|                    0.0|1.459724218288993...|1.459724218288993...|1.459724218288993...|1.459724218288993...|0.06499753837415911|1.459724218288993...|0.031054084551650152|2.034767092151668E-5|1.636660487169816...|1.503958285509199...|1.503958285509199...|1.592426419949610...|\n",
      "+-----------------------+--------------------+--------------------+--------------------+--------------------+-------------------+--------------------+--------------------+--------------------+--------------------+--------------------+--------------------+--------------------+\n",
      "\n"
     ]
    }
   ],
   "source": [
    "# for each field, compute missing percentage\n",
    "\n",
    "df.agg(*[\n",
    "    (1 - F.count(c) / F.count('*')).alias(c + '_miss')\n",
    "    for c in df.columns\n",
    "]).show()"
   ]
  },
  {
   "cell_type": "code",
   "execution_count": 19,
   "metadata": {},
   "outputs": [
    {
     "data": {
      "text/plain": [
       "[Row(loan_status_binary=0, loan_amnt=3600.0, term=' 36 months', int_rate=13.99, grade='C', emp_length='10+ years', home_ownership='MORTGAGE', tot_cur_bal='144904.0', total_pymnt='4421.723916800001', annual_inc='55000.0', addr_state='PA', fico_range_low='675.0', last_pymnt_amnt='122.67'),\n",
       " Row(loan_status_binary=0, loan_amnt=24700.0, term=' 36 months', int_rate=11.99, grade='C', emp_length='10+ years', home_ownership='MORTGAGE', tot_cur_bal='204396.0', total_pymnt='25679.66', annual_inc='65000.0', addr_state='SD', fico_range_low='715.0', last_pymnt_amnt='926.35'),\n",
       " Row(loan_status_binary=0, loan_amnt=20000.0, term=' 60 months', int_rate=10.78, grade='B', emp_length='10+ years', home_ownership='MORTGAGE', tot_cur_bal='189699.0', total_pymnt='22705.924293878397', annual_inc='63000.0', addr_state='IL', fico_range_low='695.0', last_pymnt_amnt='15813.3')]"
      ]
     },
     "execution_count": 19,
     "metadata": {},
     "output_type": "execute_result"
    }
   ],
   "source": [
    "df.take(3)"
   ]
  },
  {
   "cell_type": "code",
   "execution_count": 20,
   "metadata": {},
   "outputs": [
    {
     "data": {
      "text/plain": [
       "DataFrame[loan_status_binary: int, loan_amnt: double, term: string, int_rate: double, grade: string, emp_length: string, home_ownership: string, tot_cur_bal: string, total_pymnt: string, annual_inc: string, addr_state: string, fico_range_low: string, last_pymnt_amnt: string]"
      ]
     },
     "execution_count": 20,
     "metadata": {},
     "output_type": "execute_result"
    }
   ],
   "source": [
    "df.cache()"
   ]
  },
  {
   "cell_type": "code",
   "execution_count": 21,
   "metadata": {},
   "outputs": [
    {
     "name": "stdout",
     "output_type": "stream",
     "text": [
      "+----------+\n",
      "|      term|\n",
      "+----------+\n",
      "| 36 months|\n",
      "|      null|\n",
      "| 60 months|\n",
      "+----------+\n",
      "\n"
     ]
    }
   ],
   "source": [
    "#Find different term levels\n",
    "df.select('term').distinct().show()"
   ]
  },
  {
   "cell_type": "code",
   "execution_count": 22,
   "metadata": {},
   "outputs": [
    {
     "name": "stdout",
     "output_type": "stream",
     "text": [
      "+----------+-------+\n",
      "|      term|  count|\n",
      "+----------+-------+\n",
      "| 36 months|1609754|\n",
      "|      null|     33|\n",
      "| 60 months| 650914|\n",
      "+----------+-------+\n",
      "\n"
     ]
    }
   ],
   "source": [
    "#Count different levels of term\n",
    "df.groupBy('term').count().show()"
   ]
  },
  {
   "cell_type": "code",
   "execution_count": 23,
   "metadata": {},
   "outputs": [],
   "source": [
    "#remove null rows\n",
    "df = df.filter(df.term.isNotNull())"
   ]
  },
  {
   "cell_type": "code",
   "execution_count": 24,
   "metadata": {},
   "outputs": [
    {
     "name": "stdout",
     "output_type": "stream",
     "text": [
      "rows=2260668\n"
     ]
    }
   ],
   "source": [
    "# row count\n",
    "print(f'rows={df.count()}')"
   ]
  },
  {
   "cell_type": "code",
   "execution_count": 25,
   "metadata": {},
   "outputs": [
    {
     "name": "stdout",
     "output_type": "stream",
     "text": [
      "rows=2260668\n"
     ]
    }
   ],
   "source": [
    "# distinct row count\n",
    "print(f'rows={df.distinct().count()}')"
   ]
  },
  {
   "cell_type": "code",
   "execution_count": 26,
   "metadata": {},
   "outputs": [
    {
     "name": "stdout",
     "output_type": "stream",
     "text": [
      "rows=2260668\n"
     ]
    }
   ],
   "source": [
    "#Looks like there are duplicates so we will drop those\n",
    "df = df.dropDuplicates()\n",
    "print(f'rows={df.count()}')"
   ]
  },
  {
   "cell_type": "markdown",
   "metadata": {},
   "source": [
    "### Analyze Annual Income"
   ]
  },
  {
   "cell_type": "code",
   "execution_count": 27,
   "metadata": {},
   "outputs": [
    {
     "name": "stdout",
     "output_type": "stream",
     "text": [
      "+----------+\n",
      "|annual_inc|\n",
      "+----------+\n",
      "|  MORTGAGE|\n",
      "+----------+\n",
      "\n"
     ]
    }
   ],
   "source": [
    "#See if any rows of annual income contain non-numeric values\n",
    "df.select('annual_inc').filter(df['annual_inc'].rlike('[A-Za-z]+')).show()"
   ]
  },
  {
   "cell_type": "code",
   "execution_count": 28,
   "metadata": {},
   "outputs": [],
   "source": [
    "#Remove string row and convert column to float\n",
    "df = df.filter(df['annual_inc'] != 'MORTGAGE')\n",
    "df = df.withColumn('annual_inc', df['annual_inc'].cast('float'))"
   ]
  },
  {
   "cell_type": "markdown",
   "metadata": {},
   "source": [
    "### Clean Up Other Columns"
   ]
  },
  {
   "cell_type": "code",
   "execution_count": 29,
   "metadata": {},
   "outputs": [],
   "source": [
    "#Convert these columns since they are numbers but cast as strings in original data\n",
    "df = df.withColumn(\"tot_cur_bal\", df['tot_cur_bal'].cast('float'))\n",
    "df = df.withColumn(\"total_pymnt\", df[\"total_pymnt\"].cast('float'))\n",
    "df = df.withColumn(\"fico_range_low\", df[\"fico_range_low\"].cast('float'))\n",
    "df = df.withColumn(\"last_pymnt_amnt\", df[\"last_pymnt_amnt\"].cast('float'))"
   ]
  },
  {
   "cell_type": "code",
   "execution_count": 30,
   "metadata": {},
   "outputs": [
    {
     "name": "stdout",
     "output_type": "stream",
     "text": [
      "+-------+------------------+------------------+-----------------+------------------+------------------+------------------+\n",
      "|summary|         loan_amnt|          int_rate|      tot_cur_bal|       total_pymnt|   last_pymnt_amnt|        annual_inc|\n",
      "+-------+------------------+------------------+-----------------+------------------+------------------+------------------+\n",
      "|  count|           2260663|           2260663|          2190483|           2260602|           2260596|           2260663|\n",
      "|   mean|15046.948715929795| 13.09283936172734|142486.1040603191|12081.567740350712|3429.3736329090607| 77992.44637777765|\n",
      "| stddev| 9190.247731503307|4.8321384083121925|160691.9677185479| 9901.817686563189| 6018.386982155955|112696.22136098208|\n",
      "|    min|             500.0|              5.31|              0.0|               0.0|               0.0|               0.0|\n",
      "|    max|           40000.0|             30.99|        9971659.0|          63296.88|          42192.05|             1.1E8|\n",
      "+-------+------------------+------------------+-----------------+------------------+------------------+------------------+\n",
      "\n"
     ]
    }
   ],
   "source": [
    "#Descriptive stats on numerical columns\n",
    "df.describe('loan_amnt', 'int_rate', 'tot_cur_bal', 'total_pymnt','last_pymnt_amnt',\n",
    "           'annual_inc').show()"
   ]
  },
  {
   "cell_type": "code",
   "execution_count": 31,
   "metadata": {},
   "outputs": [
    {
     "name": "stdout",
     "output_type": "stream",
     "text": [
      "+--------------------+------+\n",
      "|          addr_state| count|\n",
      "+--------------------+------+\n",
      "|                  CA|314481|\n",
      "|                  NY|186370|\n",
      "|                  TX|186318|\n",
      "|                  FL|161977|\n",
      "|                  IL| 91152|\n",
      "|                  NJ| 83123|\n",
      "|                  PA| 76930|\n",
      "|                  OH| 75125|\n",
      "|                  GA| 74186|\n",
      "|                  VA| 62944|\n",
      "|                  NC| 62730|\n",
      "|                  MI| 58764|\n",
      "|                  MD| 54000|\n",
      "|                  AZ| 53769|\n",
      "|                  MA| 51773|\n",
      "|                  CO| 48178|\n",
      "|                  WA| 47053|\n",
      "|                  MN| 39513|\n",
      "|                  IN| 37515|\n",
      "|                  MO| 36082|\n",
      "|                  CT| 35782|\n",
      "|                  TN| 35483|\n",
      "|                  NV| 32653|\n",
      "|                  WI| 29873|\n",
      "|                  SC| 28001|\n",
      "|                  AL| 27282|\n",
      "|                  OR| 26788|\n",
      "|                  LA| 25757|\n",
      "|                  KY| 21885|\n",
      "|                  OK| 20691|\n",
      "|                  KS| 19106|\n",
      "|                  AR| 17074|\n",
      "|                  UT| 14990|\n",
      "|                  MS| 12638|\n",
      "|                  NM| 11985|\n",
      "|                  NH| 11140|\n",
      "|                  HI| 10667|\n",
      "|                  RI| 10004|\n",
      "|                  WV|  8350|\n",
      "|                  NE|  7819|\n",
      "|                  DE|  6456|\n",
      "|                  MT|  6298|\n",
      "|                  DC|  5355|\n",
      "|                  AK|  5229|\n",
      "|                  ME|  4973|\n",
      "|                  VT|  4937|\n",
      "|                  WY|  4747|\n",
      "|                  SD|  4549|\n",
      "|                  ID|  4308|\n",
      "|                  ND|  3591|\n",
      "|                  IA|    14|\n",
      "|  debt_consolidation|    13|\n",
      "|         credit_card|    10|\n",
      "|      major_purchase|     5|\n",
      "|               other|     5|\n",
      "|               100xx|     2|\n",
      "|         educational|     2|\n",
      "|               922xx|     2|\n",
      "|           insurance|     2|\n",
      "|               941xx|     2|\n",
      "|    home_improvement|     2|\n",
      "|               600xx|     2|\n",
      "| but I usually pa...|     1|\n",
      "| and anyone this ...|     1|\n",
      "|             wedding|     1|\n",
      "|                null|     1|\n",
      "+--------------------+------+\n",
      "only showing top 66 rows\n",
      "\n"
     ]
    }
   ],
   "source": [
    "df.groupBy('addr_state').count().orderBy('count', ascending=False).show(66)"
   ]
  },
  {
   "cell_type": "markdown",
   "metadata": {},
   "source": [
    "It looks like there are some rows that aren't actually states, we'll need to get rid of those"
   ]
  },
  {
   "cell_type": "code",
   "execution_count": 32,
   "metadata": {},
   "outputs": [
    {
     "data": {
      "text/plain": [
       "2260408"
      ]
     },
     "execution_count": 32,
     "metadata": {},
     "output_type": "execute_result"
    }
   ],
   "source": [
    "#This uses a regex to find only state names on the 'addr_state' column\n",
    "df= df.filter(df['addr_state'].rlike(\"^[A-Z]{2}$\"))\n",
    "#we can check that those rows have been removed\n",
    "df.count()\n"
   ]
  },
  {
   "cell_type": "code",
   "execution_count": 33,
   "metadata": {},
   "outputs": [
    {
     "name": "stdout",
     "output_type": "stream",
     "text": [
      "+----------+------+\n",
      "|addr_state| count|\n",
      "+----------+------+\n",
      "|        CA|314481|\n",
      "|        NY|186370|\n",
      "|        TX|186318|\n",
      "|        FL|161977|\n",
      "|        IL| 91152|\n",
      "|        NJ| 83123|\n",
      "|        PA| 76930|\n",
      "|        OH| 75125|\n",
      "|        GA| 74186|\n",
      "|        VA| 62944|\n",
      "|        NC| 62730|\n",
      "|        MI| 58764|\n",
      "|        MD| 54000|\n",
      "|        AZ| 53769|\n",
      "|        MA| 51773|\n",
      "|        CO| 48178|\n",
      "|        WA| 47053|\n",
      "|        MN| 39513|\n",
      "|        IN| 37515|\n",
      "|        MO| 36082|\n",
      "|        CT| 35782|\n",
      "|        TN| 35483|\n",
      "|        NV| 32653|\n",
      "|        WI| 29873|\n",
      "|        SC| 28001|\n",
      "|        AL| 27282|\n",
      "|        OR| 26788|\n",
      "|        LA| 25757|\n",
      "|        KY| 21885|\n",
      "|        OK| 20691|\n",
      "|        KS| 19106|\n",
      "|        AR| 17074|\n",
      "|        UT| 14990|\n",
      "|        MS| 12638|\n",
      "|        NM| 11985|\n",
      "|        NH| 11140|\n",
      "|        HI| 10667|\n",
      "|        RI| 10004|\n",
      "|        WV|  8350|\n",
      "|        NE|  7819|\n",
      "|        DE|  6456|\n",
      "|        MT|  6298|\n",
      "|        DC|  5355|\n",
      "|        AK|  5229|\n",
      "|        ME|  4973|\n",
      "|        VT|  4937|\n",
      "|        WY|  4747|\n",
      "|        SD|  4549|\n",
      "|        ID|  4308|\n",
      "|        ND|  3591|\n",
      "|        IA|    14|\n",
      "+----------+------+\n",
      "\n"
     ]
    }
   ],
   "source": [
    "df.groupBy('addr_state').count().orderBy('count', ascending=False).show(66)"
   ]
  },
  {
   "cell_type": "code",
   "execution_count": 36,
   "metadata": {},
   "outputs": [],
   "source": [
    "#Find Outliers\n",
    "\n",
    "bnds = {}\n",
    "cols = ['loan_amnt', 'int_rate', 'tot_cur_bal', 'fico_range_low', 'annual_inc']\n",
    "\n",
    "def outliers(df):\n",
    "\n",
    "    for col in cols:\n",
    "        quantiles = df.approxQuantile(col, [0.25, 0.75], 0.05)\n",
    "        IQR = quantiles[1] - quantiles[0]\n",
    "\n",
    "        bnds[col] = [\n",
    "         quantiles[0] - 1.5 * IQR,\n",
    "         quantiles[1] + 1.5 * IQR\n",
    "        ]\n",
    "    return bnds"
   ]
  },
  {
   "cell_type": "code",
   "execution_count": 37,
   "metadata": {},
   "outputs": [
    {
     "data": {
      "text/plain": [
       "{'loan_amnt': [-8600.0, 41000.0],\n",
       " 'int_rate': [3.0250000000000004, 24.665],\n",
       " 'tot_cur_bal': [-283352.5, 575859.5],\n",
       " 'fico_range_low': [612.5, 792.5],\n",
       " 'annual_inc': [-24605.0, 179563.0]}"
      ]
     },
     "execution_count": 37,
     "metadata": {},
     "output_type": "execute_result"
    }
   ],
   "source": [
    "#Show Quantiles\n",
    "outliers(df.select(cols))"
   ]
  },
  {
   "cell_type": "markdown",
   "metadata": {},
   "source": [
    "We'll have to look into these negative numbers and clean them up, nobody actually got a negative balance"
   ]
  },
  {
   "cell_type": "markdown",
   "metadata": {},
   "source": [
    "## Examine Grade"
   ]
  },
  {
   "cell_type": "code",
   "execution_count": 38,
   "metadata": {},
   "outputs": [
    {
     "name": "stdout",
     "output_type": "stream",
     "text": [
      "+-----+------+\n",
      "|grade| count|\n",
      "+-----+------+\n",
      "|    G| 12163|\n",
      "|    F| 41792|\n",
      "|    E|135618|\n",
      "|    D|324385|\n",
      "|    A|432977|\n",
      "|    C|650001|\n",
      "|    B|663472|\n",
      "+-----+------+\n",
      "\n"
     ]
    }
   ],
   "source": [
    "df.groupBy('grade').count().orderBy('count').show()"
   ]
  },
  {
   "cell_type": "code",
   "execution_count": 39,
   "metadata": {},
   "outputs": [],
   "source": [
    "#remove null rows\n",
    "df = df.filter(df.grade.isNotNull())"
   ]
  },
  {
   "cell_type": "code",
   "execution_count": 40,
   "metadata": {},
   "outputs": [],
   "source": [
    "#Create dummy columns\n",
    "grade_AB = F.when(\n",
    "    F.col(\"grade\") == 'A', 1\n",
    ").when(F.col(\"grade\") == 'B', 1).otherwise(0)\n",
    "\n",
    "grade_CD = F.when(\n",
    "    F.col(\"grade\") == 'C', 1\n",
    ").when(F.col(\"grade\") == 'D', 1).otherwise(0)\n",
    "\n",
    "grade_EFG = F.when(\n",
    "    F.col(\"grade\") == 'E', 1\n",
    ").when(F.col(\"grade\") == 'F', 1\n",
    ").when(F.col(\"grade\") == 'G', 1).otherwise(0)"
   ]
  },
  {
   "cell_type": "code",
   "execution_count": 41,
   "metadata": {},
   "outputs": [],
   "source": [
    "#add new columns to train data\n",
    "df = df.withColumn('grade_AB', grade_AB)\n",
    "df = df.withColumn('grade_CD', grade_CD)\n",
    "df = df.withColumn('grade_EFG', grade_EFG)"
   ]
  },
  {
   "cell_type": "code",
   "execution_count": 42,
   "metadata": {},
   "outputs": [
    {
     "name": "stdout",
     "output_type": "stream",
     "text": [
      "+------------------+---------+----------+--------+----------+--------------+-----------+-----------+----------+----------+--------------+---------------+--------+--------+---------+\n",
      "|loan_status_binary|loan_amnt|      term|int_rate|emp_length|home_ownership|tot_cur_bal|total_pymnt|annual_inc|addr_state|fico_range_low|last_pymnt_amnt|grade_AB|grade_CD|grade_EFG|\n",
      "+------------------+---------+----------+--------+----------+--------------+-----------+-----------+----------+----------+--------------+---------------+--------+--------+---------+\n",
      "|                 0|  11000.0| 36 months|    7.21|      null|           ANY|    28511.0|    1354.03|   40000.0|        PA|         715.0|         340.71|       1|       0|        0|\n",
      "|                 0|   4000.0| 36 months|    22.9|      null|           ANY|   108997.0|    1386.67|   40000.0|        MI|         665.0|         154.64|       0|       0|        1|\n",
      "|                 0|  10000.0| 36 months|   17.97|  < 1 year|           ANY|    20320.0|    1435.54|   60000.0|        CA|         665.0|         361.38|       0|       1|        0|\n",
      "|                 0|  13000.0| 36 months|   10.91|   5 years|           ANY|    34947.0|  14686.205|   45000.0|        NH|         725.0|        7470.61|       1|       0|        0|\n",
      "|                 0|   7400.0| 36 months|   12.62|      null|           ANY|   253930.0|    3481.88|   51435.0|        AZ|         705.0|         247.99|       0|       1|        0|\n",
      "|                 0|  30000.0| 36 months|   18.94|      null|           ANY|    24852.0|    6687.39|   65000.0|        FL|         690.0|        1098.78|       0|       1|        0|\n",
      "|                 1|  17600.0| 36 months|   10.99|  < 1 year|      MORTGAGE|   122471.0|        0.0|   42000.0|        TX|         725.0|            0.0|       1|       0|        0|\n",
      "|                 0|  10000.0| 60 months|   16.91|  < 1 year|      MORTGAGE|    45038.0|        0.0|   40000.0|        AZ|         660.0|            0.0|       0|       1|        0|\n",
      "|                 0|  10000.0| 36 months|    8.81|  < 1 year|      MORTGAGE|   279304.0|  10005.511|   73000.0|        VA|         765.0|        10010.4|       1|       0|        0|\n",
      "|                 0|  10000.0| 60 months|    7.49| 10+ years|      MORTGAGE|   197499.0|    10006.6|   86000.0|        NC|         790.0|         200.34|       1|       0|        0|\n",
      "+------------------+---------+----------+--------+----------+--------------+-----------+-----------+----------+----------+--------------+---------------+--------+--------+---------+\n",
      "only showing top 10 rows\n",
      "\n"
     ]
    }
   ],
   "source": [
    "#remove redundant grade column\n",
    "df = df.drop('grade')\n",
    "\n",
    "df.show(10)"
   ]
  },
  {
   "cell_type": "markdown",
   "metadata": {},
   "source": [
    "## Examine emp_length"
   ]
  },
  {
   "cell_type": "code",
   "execution_count": 43,
   "metadata": {},
   "outputs": [
    {
     "name": "stdout",
     "output_type": "stream",
     "text": [
      "+----------+------+\n",
      "|emp_length| count|\n",
      "+----------+------+\n",
      "|   9 years| 79386|\n",
      "|   8 years| 91911|\n",
      "|   7 years| 92687|\n",
      "|   6 years|102617|\n",
      "|   4 years|136575|\n",
      "|   5 years|139681|\n",
      "|      null|146904|\n",
      "|    1 year|148370|\n",
      "|   3 years|180722|\n",
      "|  < 1 year|189942|\n",
      "|   2 years|203644|\n",
      "| 10+ years|747969|\n",
      "+----------+------+\n",
      "\n"
     ]
    }
   ],
   "source": [
    "df.groupBy('emp_length').count().orderBy('count').show()"
   ]
  },
  {
   "cell_type": "code",
   "execution_count": 44,
   "metadata": {},
   "outputs": [],
   "source": [
    "#Create dummy columns\n",
    "\n",
    "emp_length_low = F.when(\n",
    "    F.col(\"emp_length\") == '< 1 year', 1\n",
    ").when(F.col(\"emp_length\") == '2 years', 1\n",
    ").when(F.col(\"emp_length\") == '3 years', 1\n",
    ").when(F.col(\"emp_length\") == '4 years', 1\n",
    ").when(F.col(\"emp_length\") == '5 years', 1).otherwise(0)\n",
    "\n",
    "emp_length_high = F.when(\n",
    "    F.col(\"emp_length\") == '6 years', 1\n",
    ").when(F.col(\"emp_length\") == '7 years', 1\n",
    ").when(F.col(\"emp_length\") == '8 years', 1\n",
    ").when(F.col(\"emp_length\") == '9 years', 1\n",
    ").when(F.col(\"emp_length\") == '10+ years', 1).otherwise(0)"
   ]
  },
  {
   "cell_type": "code",
   "execution_count": 45,
   "metadata": {},
   "outputs": [
    {
     "name": "stdout",
     "output_type": "stream",
     "text": [
      "+------------------+---------+----------+--------+--------------+-----------+-----------+----------+----------+--------------+---------------+--------+--------+---------+--------------+---------------+\n",
      "|loan_status_binary|loan_amnt|      term|int_rate|home_ownership|tot_cur_bal|total_pymnt|annual_inc|addr_state|fico_range_low|last_pymnt_amnt|grade_AB|grade_CD|grade_EFG|emp_length_low|emp_length_high|\n",
      "+------------------+---------+----------+--------+--------------+-----------+-----------+----------+----------+--------------+---------------+--------+--------+---------+--------------+---------------+\n",
      "|                 0|  11000.0| 36 months|    7.21|           ANY|    28511.0|    1354.03|   40000.0|        PA|         715.0|         340.71|       1|       0|        0|             0|              0|\n",
      "|                 0|   4000.0| 36 months|    22.9|           ANY|   108997.0|    1386.67|   40000.0|        MI|         665.0|         154.64|       0|       0|        1|             0|              0|\n",
      "|                 0|  10000.0| 36 months|   17.97|           ANY|    20320.0|    1435.54|   60000.0|        CA|         665.0|         361.38|       0|       1|        0|             1|              0|\n",
      "|                 0|  13000.0| 36 months|   10.91|           ANY|    34947.0|  14686.205|   45000.0|        NH|         725.0|        7470.61|       1|       0|        0|             1|              0|\n",
      "|                 0|   7400.0| 36 months|   12.62|           ANY|   253930.0|    3481.88|   51435.0|        AZ|         705.0|         247.99|       0|       1|        0|             0|              0|\n",
      "|                 0|  30000.0| 36 months|   18.94|           ANY|    24852.0|    6687.39|   65000.0|        FL|         690.0|        1098.78|       0|       1|        0|             0|              0|\n",
      "|                 1|  17600.0| 36 months|   10.99|      MORTGAGE|   122471.0|        0.0|   42000.0|        TX|         725.0|            0.0|       1|       0|        0|             1|              0|\n",
      "|                 0|  10000.0| 60 months|   16.91|      MORTGAGE|    45038.0|        0.0|   40000.0|        AZ|         660.0|            0.0|       0|       1|        0|             1|              0|\n",
      "|                 0|  10000.0| 36 months|    8.81|      MORTGAGE|   279304.0|  10005.511|   73000.0|        VA|         765.0|        10010.4|       1|       0|        0|             1|              0|\n",
      "|                 0|  10000.0| 60 months|    7.49|      MORTGAGE|   197499.0|    10006.6|   86000.0|        NC|         790.0|         200.34|       1|       0|        0|             0|              1|\n",
      "+------------------+---------+----------+--------+--------------+-----------+-----------+----------+----------+--------------+---------------+--------+--------+---------+--------------+---------------+\n",
      "only showing top 10 rows\n",
      "\n"
     ]
    }
   ],
   "source": [
    "#add dummy columns to train data\n",
    "df = df.withColumn('emp_length_low', emp_length_low)\n",
    "df = df.withColumn('emp_length_high', emp_length_high)\n",
    "\n",
    "#Remove redundant \"emp_length\" column\n",
    "df = df.drop('emp_length')\n",
    "df.show(10)"
   ]
  },
  {
   "cell_type": "code",
   "execution_count": 46,
   "metadata": {},
   "outputs": [
    {
     "name": "stdout",
     "output_type": "stream",
     "text": [
      "root\n",
      " |-- loan_status_binary: integer (nullable = false)\n",
      " |-- loan_amnt: double (nullable = true)\n",
      " |-- term: string (nullable = true)\n",
      " |-- int_rate: double (nullable = true)\n",
      " |-- home_ownership: string (nullable = true)\n",
      " |-- tot_cur_bal: float (nullable = true)\n",
      " |-- total_pymnt: float (nullable = true)\n",
      " |-- annual_inc: float (nullable = true)\n",
      " |-- addr_state: string (nullable = true)\n",
      " |-- fico_range_low: float (nullable = true)\n",
      " |-- last_pymnt_amnt: float (nullable = true)\n",
      " |-- grade_CD: integer (nullable = false)\n",
      " |-- grade_EFG: integer (nullable = false)\n",
      " |-- emp_length_low: integer (nullable = false)\n",
      "\n"
     ]
    }
   ],
   "source": [
    "#Removing a dummy variable column for \"grade\" and \"emp_length\", since number of columns should be n-1, where n is number of categories\n",
    "df = df.drop('grade_AB')\n",
    "df = df.drop('emp_length_high')\n",
    "df.printSchema()"
   ]
  },
  {
   "cell_type": "code",
   "execution_count": 48,
   "metadata": {},
   "outputs": [],
   "source": [
    "df.toPandas().to_csv('train_data.csv')"
   ]
  },
  {
   "cell_type": "code",
   "execution_count": null,
   "metadata": {},
   "outputs": [],
   "source": []
  }
 ],
 "metadata": {
  "kernelspec": {
   "display_name": "DS 5559",
   "language": "python",
   "name": "ds5559"
  },
  "language_info": {
   "codemirror_mode": {
    "name": "ipython",
    "version": 3
   },
   "file_extension": ".py",
   "mimetype": "text/x-python",
   "name": "python",
   "nbconvert_exporter": "python",
   "pygments_lexer": "ipython3",
   "version": "3.7.6"
  }
 },
 "nbformat": 4,
 "nbformat_minor": 2
}
